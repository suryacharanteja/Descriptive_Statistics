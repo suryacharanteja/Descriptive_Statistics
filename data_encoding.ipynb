{
 "cells": [
  {
   "cell_type": "markdown",
   "id": "bcd6e666",
   "metadata": {},
   "source": [
    "### package ==> category_encoders"
   ]
  },
  {
   "cell_type": "markdown",
   "id": "26815217",
   "metadata": {},
   "source": [
    "# 1. Label encoding or ordinal encoding"
   ]
  },
  {
   "cell_type": "markdown",
   "id": "426b56cb",
   "metadata": {},
   "source": [
    "### where the order of the categories matters"
   ]
  },
  {
   "cell_type": "code",
   "execution_count": 2,
   "id": "1fe98cfb",
   "metadata": {},
   "outputs": [],
   "source": [
    "import pandas as pd"
   ]
  },
  {
   "cell_type": "code",
   "execution_count": 3,
   "id": "e80ce0b1",
   "metadata": {},
   "outputs": [],
   "source": [
    "from sklearn.preprocessing import LabelEncoder"
   ]
  },
  {
   "cell_type": "code",
   "execution_count": 4,
   "id": "d3f361f6",
   "metadata": {},
   "outputs": [],
   "source": [
    "# Create a sample DataFrame\n",
    "df = pd.DataFrame({\"Rating\": [\"poor\", \"Fair\", \"good\", \"very good\", \"excellent\", \"poor\", \"poor\", \"Fair\", \"good\", \"very good\", \"excellent\", \"Fair\", \"good\", \"poor\", \"Fair\", \"good\", \"very good\", \"excellent\", \"very good\", \"excellent\"]})\n"
   ]
  },
  {
   "cell_type": "code",
   "execution_count": 5,
   "id": "d860931f",
   "metadata": {},
   "outputs": [
    {
     "data": {
      "text/html": [
       "<div>\n",
       "<style scoped>\n",
       "    .dataframe tbody tr th:only-of-type {\n",
       "        vertical-align: middle;\n",
       "    }\n",
       "\n",
       "    .dataframe tbody tr th {\n",
       "        vertical-align: top;\n",
       "    }\n",
       "\n",
       "    .dataframe thead th {\n",
       "        text-align: right;\n",
       "    }\n",
       "</style>\n",
       "<table border=\"1\" class=\"dataframe\">\n",
       "  <thead>\n",
       "    <tr style=\"text-align: right;\">\n",
       "      <th></th>\n",
       "      <th>Rating</th>\n",
       "    </tr>\n",
       "  </thead>\n",
       "  <tbody>\n",
       "    <tr>\n",
       "      <th>0</th>\n",
       "      <td>poor</td>\n",
       "    </tr>\n",
       "    <tr>\n",
       "      <th>1</th>\n",
       "      <td>Fair</td>\n",
       "    </tr>\n",
       "    <tr>\n",
       "      <th>2</th>\n",
       "      <td>good</td>\n",
       "    </tr>\n",
       "    <tr>\n",
       "      <th>3</th>\n",
       "      <td>very good</td>\n",
       "    </tr>\n",
       "    <tr>\n",
       "      <th>4</th>\n",
       "      <td>excellent</td>\n",
       "    </tr>\n",
       "    <tr>\n",
       "      <th>5</th>\n",
       "      <td>poor</td>\n",
       "    </tr>\n",
       "    <tr>\n",
       "      <th>6</th>\n",
       "      <td>poor</td>\n",
       "    </tr>\n",
       "    <tr>\n",
       "      <th>7</th>\n",
       "      <td>Fair</td>\n",
       "    </tr>\n",
       "    <tr>\n",
       "      <th>8</th>\n",
       "      <td>good</td>\n",
       "    </tr>\n",
       "    <tr>\n",
       "      <th>9</th>\n",
       "      <td>very good</td>\n",
       "    </tr>\n",
       "    <tr>\n",
       "      <th>10</th>\n",
       "      <td>excellent</td>\n",
       "    </tr>\n",
       "    <tr>\n",
       "      <th>11</th>\n",
       "      <td>Fair</td>\n",
       "    </tr>\n",
       "    <tr>\n",
       "      <th>12</th>\n",
       "      <td>good</td>\n",
       "    </tr>\n",
       "    <tr>\n",
       "      <th>13</th>\n",
       "      <td>poor</td>\n",
       "    </tr>\n",
       "    <tr>\n",
       "      <th>14</th>\n",
       "      <td>Fair</td>\n",
       "    </tr>\n",
       "    <tr>\n",
       "      <th>15</th>\n",
       "      <td>good</td>\n",
       "    </tr>\n",
       "    <tr>\n",
       "      <th>16</th>\n",
       "      <td>very good</td>\n",
       "    </tr>\n",
       "    <tr>\n",
       "      <th>17</th>\n",
       "      <td>excellent</td>\n",
       "    </tr>\n",
       "    <tr>\n",
       "      <th>18</th>\n",
       "      <td>very good</td>\n",
       "    </tr>\n",
       "    <tr>\n",
       "      <th>19</th>\n",
       "      <td>excellent</td>\n",
       "    </tr>\n",
       "  </tbody>\n",
       "</table>\n",
       "</div>"
      ],
      "text/plain": [
       "       Rating\n",
       "0        poor\n",
       "1        Fair\n",
       "2        good\n",
       "3   very good\n",
       "4   excellent\n",
       "5        poor\n",
       "6        poor\n",
       "7        Fair\n",
       "8        good\n",
       "9   very good\n",
       "10  excellent\n",
       "11       Fair\n",
       "12       good\n",
       "13       poor\n",
       "14       Fair\n",
       "15       good\n",
       "16  very good\n",
       "17  excellent\n",
       "18  very good\n",
       "19  excellent"
      ]
     },
     "execution_count": 5,
     "metadata": {},
     "output_type": "execute_result"
    }
   ],
   "source": [
    "df"
   ]
  },
  {
   "cell_type": "code",
   "execution_count": 6,
   "id": "454202a4",
   "metadata": {},
   "outputs": [
    {
     "name": "stdout",
     "output_type": "stream",
     "text": [
      "       Rating  Rating_label_encoder\n",
      "0        poor                     3\n",
      "1        Fair                     0\n",
      "2        good                     2\n",
      "3   very good                     4\n",
      "4   excellent                     1\n",
      "5        poor                     3\n",
      "6        poor                     3\n",
      "7        Fair                     0\n",
      "8        good                     2\n",
      "9   very good                     4\n",
      "10  excellent                     1\n",
      "11       Fair                     0\n",
      "12       good                     2\n",
      "13       poor                     3\n",
      "14       Fair                     0\n",
      "15       good                     2\n",
      "16  very good                     4\n",
      "17  excellent                     1\n",
      "18  very good                     4\n",
      "19  excellent                     1\n"
     ]
    }
   ],
   "source": [
    "# perform label encoding on column Rating\n",
    "\n",
    "label_encoder = LabelEncoder()\n",
    "\n",
    "df[\"Rating_label_encoder\"] = label_encoder.fit_transform(df[\"Rating\"])\n",
    "\n",
    "print(df)\n"
   ]
  },
  {
   "cell_type": "code",
   "execution_count": 7,
   "id": "c315fa80",
   "metadata": {},
   "outputs": [
    {
     "data": {
      "text/html": [
       "<div>\n",
       "<style scoped>\n",
       "    .dataframe tbody tr th:only-of-type {\n",
       "        vertical-align: middle;\n",
       "    }\n",
       "\n",
       "    .dataframe tbody tr th {\n",
       "        vertical-align: top;\n",
       "    }\n",
       "\n",
       "    .dataframe thead th {\n",
       "        text-align: right;\n",
       "    }\n",
       "</style>\n",
       "<table border=\"1\" class=\"dataframe\">\n",
       "  <thead>\n",
       "    <tr style=\"text-align: right;\">\n",
       "      <th></th>\n",
       "      <th>Rating</th>\n",
       "      <th>Rating_label_encoder</th>\n",
       "    </tr>\n",
       "  </thead>\n",
       "  <tbody>\n",
       "    <tr>\n",
       "      <th>0</th>\n",
       "      <td>poor</td>\n",
       "      <td>3</td>\n",
       "    </tr>\n",
       "    <tr>\n",
       "      <th>1</th>\n",
       "      <td>Fair</td>\n",
       "      <td>0</td>\n",
       "    </tr>\n",
       "    <tr>\n",
       "      <th>2</th>\n",
       "      <td>good</td>\n",
       "      <td>2</td>\n",
       "    </tr>\n",
       "    <tr>\n",
       "      <th>3</th>\n",
       "      <td>very good</td>\n",
       "      <td>4</td>\n",
       "    </tr>\n",
       "    <tr>\n",
       "      <th>4</th>\n",
       "      <td>excellent</td>\n",
       "      <td>1</td>\n",
       "    </tr>\n",
       "    <tr>\n",
       "      <th>5</th>\n",
       "      <td>poor</td>\n",
       "      <td>3</td>\n",
       "    </tr>\n",
       "    <tr>\n",
       "      <th>6</th>\n",
       "      <td>poor</td>\n",
       "      <td>3</td>\n",
       "    </tr>\n",
       "    <tr>\n",
       "      <th>7</th>\n",
       "      <td>Fair</td>\n",
       "      <td>0</td>\n",
       "    </tr>\n",
       "    <tr>\n",
       "      <th>8</th>\n",
       "      <td>good</td>\n",
       "      <td>2</td>\n",
       "    </tr>\n",
       "    <tr>\n",
       "      <th>9</th>\n",
       "      <td>very good</td>\n",
       "      <td>4</td>\n",
       "    </tr>\n",
       "    <tr>\n",
       "      <th>10</th>\n",
       "      <td>excellent</td>\n",
       "      <td>1</td>\n",
       "    </tr>\n",
       "    <tr>\n",
       "      <th>11</th>\n",
       "      <td>Fair</td>\n",
       "      <td>0</td>\n",
       "    </tr>\n",
       "    <tr>\n",
       "      <th>12</th>\n",
       "      <td>good</td>\n",
       "      <td>2</td>\n",
       "    </tr>\n",
       "    <tr>\n",
       "      <th>13</th>\n",
       "      <td>poor</td>\n",
       "      <td>3</td>\n",
       "    </tr>\n",
       "    <tr>\n",
       "      <th>14</th>\n",
       "      <td>Fair</td>\n",
       "      <td>0</td>\n",
       "    </tr>\n",
       "    <tr>\n",
       "      <th>15</th>\n",
       "      <td>good</td>\n",
       "      <td>2</td>\n",
       "    </tr>\n",
       "    <tr>\n",
       "      <th>16</th>\n",
       "      <td>very good</td>\n",
       "      <td>4</td>\n",
       "    </tr>\n",
       "    <tr>\n",
       "      <th>17</th>\n",
       "      <td>excellent</td>\n",
       "      <td>1</td>\n",
       "    </tr>\n",
       "    <tr>\n",
       "      <th>18</th>\n",
       "      <td>very good</td>\n",
       "      <td>4</td>\n",
       "    </tr>\n",
       "    <tr>\n",
       "      <th>19</th>\n",
       "      <td>excellent</td>\n",
       "      <td>1</td>\n",
       "    </tr>\n",
       "  </tbody>\n",
       "</table>\n",
       "</div>"
      ],
      "text/plain": [
       "       Rating  Rating_label_encoder\n",
       "0        poor                     3\n",
       "1        Fair                     0\n",
       "2        good                     2\n",
       "3   very good                     4\n",
       "4   excellent                     1\n",
       "5        poor                     3\n",
       "6        poor                     3\n",
       "7        Fair                     0\n",
       "8        good                     2\n",
       "9   very good                     4\n",
       "10  excellent                     1\n",
       "11       Fair                     0\n",
       "12       good                     2\n",
       "13       poor                     3\n",
       "14       Fair                     0\n",
       "15       good                     2\n",
       "16  very good                     4\n",
       "17  excellent                     1\n",
       "18  very good                     4\n",
       "19  excellent                     1"
      ]
     },
     "execution_count": 7,
     "metadata": {},
     "output_type": "execute_result"
    }
   ],
   "source": [
    "df"
   ]
  },
  {
   "cell_type": "code",
   "execution_count": 8,
   "id": "65d3c4dd",
   "metadata": {},
   "outputs": [],
   "source": [
    "# Create a sample DataFrame\n",
    "dfl = pd.DataFrame({\"Rating\": [\"poor\", \"fair\", \"good\", \"verygood\", \"excellent\", \"poor\", \"poor\", \"fair\", \"good\", \"verygood\", \"excellent\", \"fair\", \"good\", \"poor\", \"fair\", \"good\", \"verygood\", \"excellent\", \"verygood\", \"excellent\"]})\n"
   ]
  },
  {
   "cell_type": "code",
   "execution_count": 9,
   "id": "c49f6329",
   "metadata": {},
   "outputs": [
    {
     "data": {
      "text/html": [
       "<div>\n",
       "<style scoped>\n",
       "    .dataframe tbody tr th:only-of-type {\n",
       "        vertical-align: middle;\n",
       "    }\n",
       "\n",
       "    .dataframe tbody tr th {\n",
       "        vertical-align: top;\n",
       "    }\n",
       "\n",
       "    .dataframe thead th {\n",
       "        text-align: right;\n",
       "    }\n",
       "</style>\n",
       "<table border=\"1\" class=\"dataframe\">\n",
       "  <thead>\n",
       "    <tr style=\"text-align: right;\">\n",
       "      <th></th>\n",
       "      <th>Rating</th>\n",
       "    </tr>\n",
       "  </thead>\n",
       "  <tbody>\n",
       "    <tr>\n",
       "      <th>0</th>\n",
       "      <td>poor</td>\n",
       "    </tr>\n",
       "    <tr>\n",
       "      <th>1</th>\n",
       "      <td>fair</td>\n",
       "    </tr>\n",
       "    <tr>\n",
       "      <th>2</th>\n",
       "      <td>good</td>\n",
       "    </tr>\n",
       "    <tr>\n",
       "      <th>3</th>\n",
       "      <td>verygood</td>\n",
       "    </tr>\n",
       "    <tr>\n",
       "      <th>4</th>\n",
       "      <td>excellent</td>\n",
       "    </tr>\n",
       "    <tr>\n",
       "      <th>5</th>\n",
       "      <td>poor</td>\n",
       "    </tr>\n",
       "    <tr>\n",
       "      <th>6</th>\n",
       "      <td>poor</td>\n",
       "    </tr>\n",
       "    <tr>\n",
       "      <th>7</th>\n",
       "      <td>fair</td>\n",
       "    </tr>\n",
       "    <tr>\n",
       "      <th>8</th>\n",
       "      <td>good</td>\n",
       "    </tr>\n",
       "    <tr>\n",
       "      <th>9</th>\n",
       "      <td>verygood</td>\n",
       "    </tr>\n",
       "    <tr>\n",
       "      <th>10</th>\n",
       "      <td>excellent</td>\n",
       "    </tr>\n",
       "    <tr>\n",
       "      <th>11</th>\n",
       "      <td>fair</td>\n",
       "    </tr>\n",
       "    <tr>\n",
       "      <th>12</th>\n",
       "      <td>good</td>\n",
       "    </tr>\n",
       "    <tr>\n",
       "      <th>13</th>\n",
       "      <td>poor</td>\n",
       "    </tr>\n",
       "    <tr>\n",
       "      <th>14</th>\n",
       "      <td>fair</td>\n",
       "    </tr>\n",
       "    <tr>\n",
       "      <th>15</th>\n",
       "      <td>good</td>\n",
       "    </tr>\n",
       "    <tr>\n",
       "      <th>16</th>\n",
       "      <td>verygood</td>\n",
       "    </tr>\n",
       "    <tr>\n",
       "      <th>17</th>\n",
       "      <td>excellent</td>\n",
       "    </tr>\n",
       "    <tr>\n",
       "      <th>18</th>\n",
       "      <td>verygood</td>\n",
       "    </tr>\n",
       "    <tr>\n",
       "      <th>19</th>\n",
       "      <td>excellent</td>\n",
       "    </tr>\n",
       "  </tbody>\n",
       "</table>\n",
       "</div>"
      ],
      "text/plain": [
       "       Rating\n",
       "0        poor\n",
       "1        fair\n",
       "2        good\n",
       "3    verygood\n",
       "4   excellent\n",
       "5        poor\n",
       "6        poor\n",
       "7        fair\n",
       "8        good\n",
       "9    verygood\n",
       "10  excellent\n",
       "11       fair\n",
       "12       good\n",
       "13       poor\n",
       "14       fair\n",
       "15       good\n",
       "16   verygood\n",
       "17  excellent\n",
       "18   verygood\n",
       "19  excellent"
      ]
     },
     "execution_count": 9,
     "metadata": {},
     "output_type": "execute_result"
    }
   ],
   "source": [
    "dfl"
   ]
  },
  {
   "cell_type": "code",
   "execution_count": 10,
   "id": "eb397fc2",
   "metadata": {},
   "outputs": [],
   "source": [
    "# define the custom mapping for label encoding\n",
    "mapping = {\"poor\": 1, \"fair\": 2, \"good\": 3, \"verygood\": 4, \"excellent\": 5}\n",
    "\n",
    "# perform label encoding using the map() function\n",
    "dfl[\"Rating_custom_le\"] = dfl[\"Rating\"].map(mapping)"
   ]
  },
  {
   "cell_type": "code",
   "execution_count": 11,
   "id": "448d3c11",
   "metadata": {},
   "outputs": [
    {
     "data": {
      "text/html": [
       "<div>\n",
       "<style scoped>\n",
       "    .dataframe tbody tr th:only-of-type {\n",
       "        vertical-align: middle;\n",
       "    }\n",
       "\n",
       "    .dataframe tbody tr th {\n",
       "        vertical-align: top;\n",
       "    }\n",
       "\n",
       "    .dataframe thead th {\n",
       "        text-align: right;\n",
       "    }\n",
       "</style>\n",
       "<table border=\"1\" class=\"dataframe\">\n",
       "  <thead>\n",
       "    <tr style=\"text-align: right;\">\n",
       "      <th></th>\n",
       "      <th>Rating</th>\n",
       "      <th>Rating_custom_le</th>\n",
       "    </tr>\n",
       "  </thead>\n",
       "  <tbody>\n",
       "    <tr>\n",
       "      <th>0</th>\n",
       "      <td>poor</td>\n",
       "      <td>1</td>\n",
       "    </tr>\n",
       "    <tr>\n",
       "      <th>1</th>\n",
       "      <td>fair</td>\n",
       "      <td>2</td>\n",
       "    </tr>\n",
       "    <tr>\n",
       "      <th>2</th>\n",
       "      <td>good</td>\n",
       "      <td>3</td>\n",
       "    </tr>\n",
       "    <tr>\n",
       "      <th>3</th>\n",
       "      <td>verygood</td>\n",
       "      <td>4</td>\n",
       "    </tr>\n",
       "    <tr>\n",
       "      <th>4</th>\n",
       "      <td>excellent</td>\n",
       "      <td>5</td>\n",
       "    </tr>\n",
       "    <tr>\n",
       "      <th>5</th>\n",
       "      <td>poor</td>\n",
       "      <td>1</td>\n",
       "    </tr>\n",
       "    <tr>\n",
       "      <th>6</th>\n",
       "      <td>poor</td>\n",
       "      <td>1</td>\n",
       "    </tr>\n",
       "    <tr>\n",
       "      <th>7</th>\n",
       "      <td>fair</td>\n",
       "      <td>2</td>\n",
       "    </tr>\n",
       "    <tr>\n",
       "      <th>8</th>\n",
       "      <td>good</td>\n",
       "      <td>3</td>\n",
       "    </tr>\n",
       "    <tr>\n",
       "      <th>9</th>\n",
       "      <td>verygood</td>\n",
       "      <td>4</td>\n",
       "    </tr>\n",
       "    <tr>\n",
       "      <th>10</th>\n",
       "      <td>excellent</td>\n",
       "      <td>5</td>\n",
       "    </tr>\n",
       "    <tr>\n",
       "      <th>11</th>\n",
       "      <td>fair</td>\n",
       "      <td>2</td>\n",
       "    </tr>\n",
       "    <tr>\n",
       "      <th>12</th>\n",
       "      <td>good</td>\n",
       "      <td>3</td>\n",
       "    </tr>\n",
       "    <tr>\n",
       "      <th>13</th>\n",
       "      <td>poor</td>\n",
       "      <td>1</td>\n",
       "    </tr>\n",
       "    <tr>\n",
       "      <th>14</th>\n",
       "      <td>fair</td>\n",
       "      <td>2</td>\n",
       "    </tr>\n",
       "    <tr>\n",
       "      <th>15</th>\n",
       "      <td>good</td>\n",
       "      <td>3</td>\n",
       "    </tr>\n",
       "    <tr>\n",
       "      <th>16</th>\n",
       "      <td>verygood</td>\n",
       "      <td>4</td>\n",
       "    </tr>\n",
       "    <tr>\n",
       "      <th>17</th>\n",
       "      <td>excellent</td>\n",
       "      <td>5</td>\n",
       "    </tr>\n",
       "    <tr>\n",
       "      <th>18</th>\n",
       "      <td>verygood</td>\n",
       "      <td>4</td>\n",
       "    </tr>\n",
       "    <tr>\n",
       "      <th>19</th>\n",
       "      <td>excellent</td>\n",
       "      <td>5</td>\n",
       "    </tr>\n",
       "  </tbody>\n",
       "</table>\n",
       "</div>"
      ],
      "text/plain": [
       "       Rating  Rating_custom_le\n",
       "0        poor                 1\n",
       "1        fair                 2\n",
       "2        good                 3\n",
       "3    verygood                 4\n",
       "4   excellent                 5\n",
       "5        poor                 1\n",
       "6        poor                 1\n",
       "7        fair                 2\n",
       "8        good                 3\n",
       "9    verygood                 4\n",
       "10  excellent                 5\n",
       "11       fair                 2\n",
       "12       good                 3\n",
       "13       poor                 1\n",
       "14       fair                 2\n",
       "15       good                 3\n",
       "16   verygood                 4\n",
       "17  excellent                 5\n",
       "18   verygood                 4\n",
       "19  excellent                 5"
      ]
     },
     "execution_count": 11,
     "metadata": {},
     "output_type": "execute_result"
    }
   ],
   "source": [
    "dfl"
   ]
  },
  {
   "cell_type": "markdown",
   "id": "8a385287",
   "metadata": {},
   "source": [
    "# 2.One hot encoding"
   ]
  },
  {
   "cell_type": "code",
   "execution_count": null,
   "id": "fb7b9a5e",
   "metadata": {},
   "outputs": [],
   "source": [
    "data set of zoo\n",
    "data set consists of information about the animals in that zoo\n"
   ]
  },
  {
   "cell_type": "code",
   "execution_count": 12,
   "id": "b834447f",
   "metadata": {},
   "outputs": [],
   "source": [
    "# create a sample DataFrame\n",
    "df1h = pd.DataFrame({\"Animal\": [\"Dog\", \"Cat\", \"Sheep\", \"Lion\", \"Horse\", \"Cat\", \"Sheep\", \"Dog\", \"Cat\", \"Sheep\", \"Lion\", \"Horse\", \"Cat\", \"Sheep\", \"Dog\", \"Cat\", \"Sheep\", \"Lion\", \"Horse\", \"Cat\", \"Sheep\", \"Lion\", \"Horse\", \"Cat\", \"Sheep\", \"Dog\", \"Cat\", \"Sheep\", \"Lion\", \"Horse\", \"Cat\", \"Sheep\", \"Dog\", \"Cat\", \"Sheep\", \"Lion\", \"Horse\", \"Cat\", \"Sheep\", \"Dog\", \"Cat\", \"Sheep\", \"Lion\", \"Horse\", \"Cat\", \"Sheep\", \"Dog\", \"Cat\", \"Sheep\", \"Lion\", \"Horse\", \"Cat\", \"Sheep\", \"Lion\", \"Horse\", \"Cat\", \"Sheep\", \"Dog\", \"Cat\", \"Sheep\", \"Lion\", \"Horse\", \"Cat\", \"Sheep\"]})"
   ]
  },
  {
   "cell_type": "code",
   "execution_count": 13,
   "id": "d92a9416",
   "metadata": {},
   "outputs": [
    {
     "data": {
      "text/html": [
       "<div>\n",
       "<style scoped>\n",
       "    .dataframe tbody tr th:only-of-type {\n",
       "        vertical-align: middle;\n",
       "    }\n",
       "\n",
       "    .dataframe tbody tr th {\n",
       "        vertical-align: top;\n",
       "    }\n",
       "\n",
       "    .dataframe thead th {\n",
       "        text-align: right;\n",
       "    }\n",
       "</style>\n",
       "<table border=\"1\" class=\"dataframe\">\n",
       "  <thead>\n",
       "    <tr style=\"text-align: right;\">\n",
       "      <th></th>\n",
       "      <th>Animal</th>\n",
       "    </tr>\n",
       "  </thead>\n",
       "  <tbody>\n",
       "    <tr>\n",
       "      <th>0</th>\n",
       "      <td>Dog</td>\n",
       "    </tr>\n",
       "    <tr>\n",
       "      <th>1</th>\n",
       "      <td>Cat</td>\n",
       "    </tr>\n",
       "    <tr>\n",
       "      <th>2</th>\n",
       "      <td>Sheep</td>\n",
       "    </tr>\n",
       "    <tr>\n",
       "      <th>3</th>\n",
       "      <td>Lion</td>\n",
       "    </tr>\n",
       "    <tr>\n",
       "      <th>4</th>\n",
       "      <td>Horse</td>\n",
       "    </tr>\n",
       "    <tr>\n",
       "      <th>...</th>\n",
       "      <td>...</td>\n",
       "    </tr>\n",
       "    <tr>\n",
       "      <th>59</th>\n",
       "      <td>Sheep</td>\n",
       "    </tr>\n",
       "    <tr>\n",
       "      <th>60</th>\n",
       "      <td>Lion</td>\n",
       "    </tr>\n",
       "    <tr>\n",
       "      <th>61</th>\n",
       "      <td>Horse</td>\n",
       "    </tr>\n",
       "    <tr>\n",
       "      <th>62</th>\n",
       "      <td>Cat</td>\n",
       "    </tr>\n",
       "    <tr>\n",
       "      <th>63</th>\n",
       "      <td>Sheep</td>\n",
       "    </tr>\n",
       "  </tbody>\n",
       "</table>\n",
       "<p>64 rows × 1 columns</p>\n",
       "</div>"
      ],
      "text/plain": [
       "   Animal\n",
       "0     Dog\n",
       "1     Cat\n",
       "2   Sheep\n",
       "3    Lion\n",
       "4   Horse\n",
       "..    ...\n",
       "59  Sheep\n",
       "60   Lion\n",
       "61  Horse\n",
       "62    Cat\n",
       "63  Sheep\n",
       "\n",
       "[64 rows x 1 columns]"
      ]
     },
     "execution_count": 13,
     "metadata": {},
     "output_type": "execute_result"
    }
   ],
   "source": [
    "df1h"
   ]
  },
  {
   "cell_type": "code",
   "execution_count": 14,
   "id": "b13615ba",
   "metadata": {},
   "outputs": [
    {
     "data": {
      "text/plain": [
       "array(['Dog', 'Cat', 'Sheep', 'Lion', 'Horse'], dtype=object)"
      ]
     },
     "execution_count": 14,
     "metadata": {},
     "output_type": "execute_result"
    }
   ],
   "source": [
    "df1h['Animal'].unique()"
   ]
  },
  {
   "cell_type": "code",
   "execution_count": 15,
   "id": "a0515717",
   "metadata": {},
   "outputs": [],
   "source": [
    "# perform one-hot encoding on the 'Animal' column\n",
    "df1h_encoded = pd.get_dummies(df1h, columns=[\"Animal\"]) "
   ]
  },
  {
   "cell_type": "code",
   "execution_count": 16,
   "id": "6bb0f947",
   "metadata": {},
   "outputs": [
    {
     "data": {
      "text/html": [
       "<div>\n",
       "<style scoped>\n",
       "    .dataframe tbody tr th:only-of-type {\n",
       "        vertical-align: middle;\n",
       "    }\n",
       "\n",
       "    .dataframe tbody tr th {\n",
       "        vertical-align: top;\n",
       "    }\n",
       "\n",
       "    .dataframe thead th {\n",
       "        text-align: right;\n",
       "    }\n",
       "</style>\n",
       "<table border=\"1\" class=\"dataframe\">\n",
       "  <thead>\n",
       "    <tr style=\"text-align: right;\">\n",
       "      <th></th>\n",
       "      <th>Animal_Cat</th>\n",
       "      <th>Animal_Dog</th>\n",
       "      <th>Animal_Horse</th>\n",
       "      <th>Animal_Lion</th>\n",
       "      <th>Animal_Sheep</th>\n",
       "    </tr>\n",
       "  </thead>\n",
       "  <tbody>\n",
       "    <tr>\n",
       "      <th>0</th>\n",
       "      <td>0</td>\n",
       "      <td>1</td>\n",
       "      <td>0</td>\n",
       "      <td>0</td>\n",
       "      <td>0</td>\n",
       "    </tr>\n",
       "    <tr>\n",
       "      <th>1</th>\n",
       "      <td>1</td>\n",
       "      <td>0</td>\n",
       "      <td>0</td>\n",
       "      <td>0</td>\n",
       "      <td>0</td>\n",
       "    </tr>\n",
       "    <tr>\n",
       "      <th>2</th>\n",
       "      <td>0</td>\n",
       "      <td>0</td>\n",
       "      <td>0</td>\n",
       "      <td>0</td>\n",
       "      <td>1</td>\n",
       "    </tr>\n",
       "    <tr>\n",
       "      <th>3</th>\n",
       "      <td>0</td>\n",
       "      <td>0</td>\n",
       "      <td>0</td>\n",
       "      <td>1</td>\n",
       "      <td>0</td>\n",
       "    </tr>\n",
       "    <tr>\n",
       "      <th>4</th>\n",
       "      <td>0</td>\n",
       "      <td>0</td>\n",
       "      <td>1</td>\n",
       "      <td>0</td>\n",
       "      <td>0</td>\n",
       "    </tr>\n",
       "    <tr>\n",
       "      <th>...</th>\n",
       "      <td>...</td>\n",
       "      <td>...</td>\n",
       "      <td>...</td>\n",
       "      <td>...</td>\n",
       "      <td>...</td>\n",
       "    </tr>\n",
       "    <tr>\n",
       "      <th>59</th>\n",
       "      <td>0</td>\n",
       "      <td>0</td>\n",
       "      <td>0</td>\n",
       "      <td>0</td>\n",
       "      <td>1</td>\n",
       "    </tr>\n",
       "    <tr>\n",
       "      <th>60</th>\n",
       "      <td>0</td>\n",
       "      <td>0</td>\n",
       "      <td>0</td>\n",
       "      <td>1</td>\n",
       "      <td>0</td>\n",
       "    </tr>\n",
       "    <tr>\n",
       "      <th>61</th>\n",
       "      <td>0</td>\n",
       "      <td>0</td>\n",
       "      <td>1</td>\n",
       "      <td>0</td>\n",
       "      <td>0</td>\n",
       "    </tr>\n",
       "    <tr>\n",
       "      <th>62</th>\n",
       "      <td>1</td>\n",
       "      <td>0</td>\n",
       "      <td>0</td>\n",
       "      <td>0</td>\n",
       "      <td>0</td>\n",
       "    </tr>\n",
       "    <tr>\n",
       "      <th>63</th>\n",
       "      <td>0</td>\n",
       "      <td>0</td>\n",
       "      <td>0</td>\n",
       "      <td>0</td>\n",
       "      <td>1</td>\n",
       "    </tr>\n",
       "  </tbody>\n",
       "</table>\n",
       "<p>64 rows × 5 columns</p>\n",
       "</div>"
      ],
      "text/plain": [
       "    Animal_Cat  Animal_Dog  Animal_Horse  Animal_Lion  Animal_Sheep\n",
       "0            0           1             0            0             0\n",
       "1            1           0             0            0             0\n",
       "2            0           0             0            0             1\n",
       "3            0           0             0            1             0\n",
       "4            0           0             1            0             0\n",
       "..         ...         ...           ...          ...           ...\n",
       "59           0           0             0            0             1\n",
       "60           0           0             0            1             0\n",
       "61           0           0             1            0             0\n",
       "62           1           0             0            0             0\n",
       "63           0           0             0            0             1\n",
       "\n",
       "[64 rows x 5 columns]"
      ]
     },
     "execution_count": 16,
     "metadata": {},
     "output_type": "execute_result"
    }
   ],
   "source": [
    "df1h_encoded"
   ]
  },
  {
   "cell_type": "code",
   "execution_count": 17,
   "id": "240669aa",
   "metadata": {},
   "outputs": [],
   "source": [
    "df_concate = pd.concat([df1h, df1h_encoded], axis=1)"
   ]
  },
  {
   "cell_type": "code",
   "execution_count": 18,
   "id": "d8a38cde",
   "metadata": {},
   "outputs": [
    {
     "name": "stdout",
     "output_type": "stream",
     "text": [
      "   Animal  Animal_Cat  Animal_Dog  Animal_Horse  Animal_Lion  Animal_Sheep\n",
      "0     Dog           0           1             0            0             0\n",
      "1     Cat           1           0             0            0             0\n",
      "2   Sheep           0           0             0            0             1\n",
      "3    Lion           0           0             0            1             0\n",
      "4   Horse           0           0             1            0             0\n",
      "..    ...         ...         ...           ...          ...           ...\n",
      "59  Sheep           0           0             0            0             1\n",
      "60   Lion           0           0             0            1             0\n",
      "61  Horse           0           0             1            0             0\n",
      "62    Cat           1           0             0            0             0\n",
      "63  Sheep           0           0             0            0             1\n",
      "\n",
      "[64 rows x 6 columns]\n"
     ]
    }
   ],
   "source": [
    "print(df_concate)"
   ]
  },
  {
   "cell_type": "code",
   "execution_count": 20,
   "id": "3068fd42",
   "metadata": {},
   "outputs": [
    {
     "data": {
      "text/html": [
       "<div>\n",
       "<style scoped>\n",
       "    .dataframe tbody tr th:only-of-type {\n",
       "        vertical-align: middle;\n",
       "    }\n",
       "\n",
       "    .dataframe tbody tr th {\n",
       "        vertical-align: top;\n",
       "    }\n",
       "\n",
       "    .dataframe thead th {\n",
       "        text-align: right;\n",
       "    }\n",
       "</style>\n",
       "<table border=\"1\" class=\"dataframe\">\n",
       "  <thead>\n",
       "    <tr style=\"text-align: right;\">\n",
       "      <th></th>\n",
       "      <th>Animal</th>\n",
       "    </tr>\n",
       "  </thead>\n",
       "  <tbody>\n",
       "    <tr>\n",
       "      <th>0</th>\n",
       "      <td>Dog</td>\n",
       "    </tr>\n",
       "    <tr>\n",
       "      <th>1</th>\n",
       "      <td>Cat</td>\n",
       "    </tr>\n",
       "    <tr>\n",
       "      <th>2</th>\n",
       "      <td>Sheep</td>\n",
       "    </tr>\n",
       "    <tr>\n",
       "      <th>3</th>\n",
       "      <td>Lion</td>\n",
       "    </tr>\n",
       "    <tr>\n",
       "      <th>4</th>\n",
       "      <td>Horse</td>\n",
       "    </tr>\n",
       "    <tr>\n",
       "      <th>...</th>\n",
       "      <td>...</td>\n",
       "    </tr>\n",
       "    <tr>\n",
       "      <th>59</th>\n",
       "      <td>Sheep</td>\n",
       "    </tr>\n",
       "    <tr>\n",
       "      <th>60</th>\n",
       "      <td>Lion</td>\n",
       "    </tr>\n",
       "    <tr>\n",
       "      <th>61</th>\n",
       "      <td>Horse</td>\n",
       "    </tr>\n",
       "    <tr>\n",
       "      <th>62</th>\n",
       "      <td>Cat</td>\n",
       "    </tr>\n",
       "    <tr>\n",
       "      <th>63</th>\n",
       "      <td>Sheep</td>\n",
       "    </tr>\n",
       "  </tbody>\n",
       "</table>\n",
       "<p>64 rows × 1 columns</p>\n",
       "</div>"
      ],
      "text/plain": [
       "   Animal\n",
       "0     Dog\n",
       "1     Cat\n",
       "2   Sheep\n",
       "3    Lion\n",
       "4   Horse\n",
       "..    ...\n",
       "59  Sheep\n",
       "60   Lion\n",
       "61  Horse\n",
       "62    Cat\n",
       "63  Sheep\n",
       "\n",
       "[64 rows x 1 columns]"
      ]
     },
     "execution_count": 20,
     "metadata": {},
     "output_type": "execute_result"
    }
   ],
   "source": [
    "df1h"
   ]
  },
  {
   "cell_type": "code",
   "execution_count": 24,
   "id": "6437c635",
   "metadata": {},
   "outputs": [],
   "source": [
    "# let use onehot encoder moudule\n",
    "\n",
    "from sklearn.preprocessing import OneHotEncoder"
   ]
  },
  {
   "cell_type": "code",
   "execution_count": 25,
   "id": "c4b6316e",
   "metadata": {},
   "outputs": [],
   "source": [
    "# create a sample DataFrame\n",
    "df1h = pd.DataFrame({\"Animal\": [\"Dog\", \"Cat\", \"Sheep\", \"Lion\", \"Horse\", \"Cat\", \"Sheep\", \"Dog\", \"Cat\", \"Sheep\", \"Lion\", \"Horse\", \"Cat\", \"Sheep\", \"Dog\", \"Cat\", \"Sheep\", \"Lion\", \"Horse\", \"Cat\", \"Sheep\", \"Lion\", \"Horse\", \"Cat\", \"Sheep\", \"Dog\", \"Cat\", \"Sheep\", \"Lion\", \"Horse\", \"Cat\", \"Sheep\", \"Dog\", \"Cat\", \"Sheep\", \"Lion\", \"Horse\", \"Cat\", \"Sheep\", \"Dog\", \"Cat\", \"Sheep\", \"Lion\", \"Horse\", \"Cat\", \"Sheep\", \"Dog\", \"Cat\", \"Sheep\", \"Lion\", \"Horse\", \"Cat\", \"Sheep\", \"Lion\", \"Horse\", \"Cat\", \"Sheep\", \"Dog\", \"Cat\", \"Sheep\", \"Lion\", \"Horse\", \"Cat\", \"Sheep\"]})"
   ]
  },
  {
   "cell_type": "code",
   "execution_count": 26,
   "id": "89602be9",
   "metadata": {},
   "outputs": [
    {
     "data": {
      "text/html": [
       "<div>\n",
       "<style scoped>\n",
       "    .dataframe tbody tr th:only-of-type {\n",
       "        vertical-align: middle;\n",
       "    }\n",
       "\n",
       "    .dataframe tbody tr th {\n",
       "        vertical-align: top;\n",
       "    }\n",
       "\n",
       "    .dataframe thead th {\n",
       "        text-align: right;\n",
       "    }\n",
       "</style>\n",
       "<table border=\"1\" class=\"dataframe\">\n",
       "  <thead>\n",
       "    <tr style=\"text-align: right;\">\n",
       "      <th></th>\n",
       "      <th>Animal</th>\n",
       "    </tr>\n",
       "  </thead>\n",
       "  <tbody>\n",
       "    <tr>\n",
       "      <th>0</th>\n",
       "      <td>Dog</td>\n",
       "    </tr>\n",
       "    <tr>\n",
       "      <th>1</th>\n",
       "      <td>Cat</td>\n",
       "    </tr>\n",
       "    <tr>\n",
       "      <th>2</th>\n",
       "      <td>Sheep</td>\n",
       "    </tr>\n",
       "    <tr>\n",
       "      <th>3</th>\n",
       "      <td>Lion</td>\n",
       "    </tr>\n",
       "    <tr>\n",
       "      <th>4</th>\n",
       "      <td>Horse</td>\n",
       "    </tr>\n",
       "    <tr>\n",
       "      <th>...</th>\n",
       "      <td>...</td>\n",
       "    </tr>\n",
       "    <tr>\n",
       "      <th>59</th>\n",
       "      <td>Sheep</td>\n",
       "    </tr>\n",
       "    <tr>\n",
       "      <th>60</th>\n",
       "      <td>Lion</td>\n",
       "    </tr>\n",
       "    <tr>\n",
       "      <th>61</th>\n",
       "      <td>Horse</td>\n",
       "    </tr>\n",
       "    <tr>\n",
       "      <th>62</th>\n",
       "      <td>Cat</td>\n",
       "    </tr>\n",
       "    <tr>\n",
       "      <th>63</th>\n",
       "      <td>Sheep</td>\n",
       "    </tr>\n",
       "  </tbody>\n",
       "</table>\n",
       "<p>64 rows × 1 columns</p>\n",
       "</div>"
      ],
      "text/plain": [
       "   Animal\n",
       "0     Dog\n",
       "1     Cat\n",
       "2   Sheep\n",
       "3    Lion\n",
       "4   Horse\n",
       "..    ...\n",
       "59  Sheep\n",
       "60   Lion\n",
       "61  Horse\n",
       "62    Cat\n",
       "63  Sheep\n",
       "\n",
       "[64 rows x 1 columns]"
      ]
     },
     "execution_count": 26,
     "metadata": {},
     "output_type": "execute_result"
    }
   ],
   "source": [
    "df1h"
   ]
  },
  {
   "cell_type": "code",
   "execution_count": 27,
   "id": "f4095ec0",
   "metadata": {},
   "outputs": [],
   "source": [
    "encoder = OneHotEncoder()"
   ]
  },
  {
   "cell_type": "code",
   "execution_count": 28,
   "id": "2d58f020",
   "metadata": {},
   "outputs": [],
   "source": [
    "# Perform one-hot encoding\n",
    "df1h_encoded = pd.DataFrame(encoder.fit_transform(df1h[['Animal']]).toarray(), columns=encoder.get_feature_names_out(['Animal']))\n"
   ]
  },
  {
   "cell_type": "code",
   "execution_count": 29,
   "id": "7d10df94",
   "metadata": {},
   "outputs": [],
   "source": [
    "# concatenate the original DataFrame with the one-hot encoded DataFrame\n",
    "df1h_concatenated = pd.concat([df1h, df1h_encoded], axis=1)"
   ]
  },
  {
   "cell_type": "code",
   "execution_count": 30,
   "id": "26969282",
   "metadata": {},
   "outputs": [
    {
     "name": "stdout",
     "output_type": "stream",
     "text": [
      "   Animal  Animal_Cat  Animal_Dog  Animal_Horse  Animal_Lion  Animal_Sheep\n",
      "0     Dog         0.0         1.0           0.0          0.0           0.0\n",
      "1     Cat         1.0         0.0           0.0          0.0           0.0\n",
      "2   Sheep         0.0         0.0           0.0          0.0           1.0\n",
      "3    Lion         0.0         0.0           0.0          1.0           0.0\n",
      "4   Horse         0.0         0.0           1.0          0.0           0.0\n",
      "..    ...         ...         ...           ...          ...           ...\n",
      "59  Sheep         0.0         0.0           0.0          0.0           1.0\n",
      "60   Lion         0.0         0.0           0.0          1.0           0.0\n",
      "61  Horse         0.0         0.0           1.0          0.0           0.0\n",
      "62    Cat         1.0         0.0           0.0          0.0           0.0\n",
      "63  Sheep         0.0         0.0           0.0          0.0           1.0\n",
      "\n",
      "[64 rows x 6 columns]\n"
     ]
    }
   ],
   "source": [
    "print(df1h_concatenated)"
   ]
  },
  {
   "cell_type": "markdown",
   "id": "c5b25caa",
   "metadata": {},
   "source": [
    "# 3. Dummy encoding"
   ]
  },
  {
   "cell_type": "code",
   "execution_count": 31,
   "id": "33d73f7e",
   "metadata": {},
   "outputs": [
    {
     "ename": "SyntaxError",
     "evalue": "invalid syntax (3894114581.py, line 1)",
     "output_type": "error",
     "traceback": [
      "\u001b[1;36m  Cell \u001b[1;32mIn[31], line 1\u001b[1;36m\u001b[0m\n\u001b[1;33m    N = number of categories\u001b[0m\n\u001b[1;37m               ^\u001b[0m\n\u001b[1;31mSyntaxError\u001b[0m\u001b[1;31m:\u001b[0m invalid syntax\n"
     ]
    }
   ],
   "source": [
    "N = number of categories\n",
    "N - 1 = number of dummy features"
   ]
  },
  {
   "cell_type": "code",
   "execution_count": null,
   "id": "af3a29fd",
   "metadata": {},
   "outputs": [],
   "source": [
    "1. a column with 30 different categories will require 30 new dummy variables for coding\n",
    "2. have dataset having more than 10 categorical variable with 10 categories each. you wil end up having 10*10=100 dummy variables "
   ]
  },
  {
   "cell_type": "markdown",
   "id": "ccc7161d",
   "metadata": {},
   "source": [
    "### Dummy variable trap"
   ]
  },
  {
   "cell_type": "code",
   "execution_count": null,
   "id": "8934f10e",
   "metadata": {},
   "outputs": [],
   "source": [
    "it is a phenomenon where features are highly correlated"
   ]
  },
  {
   "cell_type": "code",
   "execution_count": null,
   "id": "405d05c7",
   "metadata": {},
   "outputs": [],
   "source": [
    "4. due to the massive increase in the dataset, coding slows down the learning model along with detoriarating the overall performance."
   ]
  },
  {
   "cell_type": "code",
   "execution_count": null,
   "id": "83462c6a",
   "metadata": {},
   "outputs": [],
   "source": []
  },
  {
   "cell_type": "markdown",
   "id": "13340681",
   "metadata": {},
   "source": [
    "# effect encoding"
   ]
  },
  {
   "cell_type": "code",
   "execution_count": null,
   "id": "72a1d36b",
   "metadata": {},
   "outputs": [],
   "source": [
    "1. this is used for categorical variables\n",
    "\n",
    "2. we will choose one category as the reference category, and the binary columns are created to represent the contrast between this reference category and the other categories\n",
    "3. the reference category is typicallyt represented by -1 in the binary columns\n",
    "4. other categories are represented as 0, or 1 , depending on whether they are present or absent\n"
   ]
  },
  {
   "cell_type": "code",
   "execution_count": 149,
   "id": "7e6a5bed",
   "metadata": {},
   "outputs": [],
   "source": [
    "\n",
    "# Create a sample DataFrame\n",
    "data = {'gender': ['male', 'female', 'non-binary', 'male', 'female']}\n",
    "df = pd.DataFrame(data)\n",
    "\n"
   ]
  },
  {
   "cell_type": "code",
   "execution_count": 32,
   "id": "be768260",
   "metadata": {},
   "outputs": [
    {
     "data": {
      "text/html": [
       "<div>\n",
       "<style scoped>\n",
       "    .dataframe tbody tr th:only-of-type {\n",
       "        vertical-align: middle;\n",
       "    }\n",
       "\n",
       "    .dataframe tbody tr th {\n",
       "        vertical-align: top;\n",
       "    }\n",
       "\n",
       "    .dataframe thead th {\n",
       "        text-align: right;\n",
       "    }\n",
       "</style>\n",
       "<table border=\"1\" class=\"dataframe\">\n",
       "  <thead>\n",
       "    <tr style=\"text-align: right;\">\n",
       "      <th></th>\n",
       "      <th>Rating</th>\n",
       "      <th>Rating_label_encoder</th>\n",
       "    </tr>\n",
       "  </thead>\n",
       "  <tbody>\n",
       "    <tr>\n",
       "      <th>0</th>\n",
       "      <td>poor</td>\n",
       "      <td>3</td>\n",
       "    </tr>\n",
       "    <tr>\n",
       "      <th>1</th>\n",
       "      <td>Fair</td>\n",
       "      <td>0</td>\n",
       "    </tr>\n",
       "    <tr>\n",
       "      <th>2</th>\n",
       "      <td>good</td>\n",
       "      <td>2</td>\n",
       "    </tr>\n",
       "    <tr>\n",
       "      <th>3</th>\n",
       "      <td>very good</td>\n",
       "      <td>4</td>\n",
       "    </tr>\n",
       "    <tr>\n",
       "      <th>4</th>\n",
       "      <td>excellent</td>\n",
       "      <td>1</td>\n",
       "    </tr>\n",
       "    <tr>\n",
       "      <th>5</th>\n",
       "      <td>poor</td>\n",
       "      <td>3</td>\n",
       "    </tr>\n",
       "    <tr>\n",
       "      <th>6</th>\n",
       "      <td>poor</td>\n",
       "      <td>3</td>\n",
       "    </tr>\n",
       "    <tr>\n",
       "      <th>7</th>\n",
       "      <td>Fair</td>\n",
       "      <td>0</td>\n",
       "    </tr>\n",
       "    <tr>\n",
       "      <th>8</th>\n",
       "      <td>good</td>\n",
       "      <td>2</td>\n",
       "    </tr>\n",
       "    <tr>\n",
       "      <th>9</th>\n",
       "      <td>very good</td>\n",
       "      <td>4</td>\n",
       "    </tr>\n",
       "    <tr>\n",
       "      <th>10</th>\n",
       "      <td>excellent</td>\n",
       "      <td>1</td>\n",
       "    </tr>\n",
       "    <tr>\n",
       "      <th>11</th>\n",
       "      <td>Fair</td>\n",
       "      <td>0</td>\n",
       "    </tr>\n",
       "    <tr>\n",
       "      <th>12</th>\n",
       "      <td>good</td>\n",
       "      <td>2</td>\n",
       "    </tr>\n",
       "    <tr>\n",
       "      <th>13</th>\n",
       "      <td>poor</td>\n",
       "      <td>3</td>\n",
       "    </tr>\n",
       "    <tr>\n",
       "      <th>14</th>\n",
       "      <td>Fair</td>\n",
       "      <td>0</td>\n",
       "    </tr>\n",
       "    <tr>\n",
       "      <th>15</th>\n",
       "      <td>good</td>\n",
       "      <td>2</td>\n",
       "    </tr>\n",
       "    <tr>\n",
       "      <th>16</th>\n",
       "      <td>very good</td>\n",
       "      <td>4</td>\n",
       "    </tr>\n",
       "    <tr>\n",
       "      <th>17</th>\n",
       "      <td>excellent</td>\n",
       "      <td>1</td>\n",
       "    </tr>\n",
       "    <tr>\n",
       "      <th>18</th>\n",
       "      <td>very good</td>\n",
       "      <td>4</td>\n",
       "    </tr>\n",
       "    <tr>\n",
       "      <th>19</th>\n",
       "      <td>excellent</td>\n",
       "      <td>1</td>\n",
       "    </tr>\n",
       "  </tbody>\n",
       "</table>\n",
       "</div>"
      ],
      "text/plain": [
       "       Rating  Rating_label_encoder\n",
       "0        poor                     3\n",
       "1        Fair                     0\n",
       "2        good                     2\n",
       "3   very good                     4\n",
       "4   excellent                     1\n",
       "5        poor                     3\n",
       "6        poor                     3\n",
       "7        Fair                     0\n",
       "8        good                     2\n",
       "9   very good                     4\n",
       "10  excellent                     1\n",
       "11       Fair                     0\n",
       "12       good                     2\n",
       "13       poor                     3\n",
       "14       Fair                     0\n",
       "15       good                     2\n",
       "16  very good                     4\n",
       "17  excellent                     1\n",
       "18  very good                     4\n",
       "19  excellent                     1"
      ]
     },
     "execution_count": 32,
     "metadata": {},
     "output_type": "execute_result"
    }
   ],
   "source": [
    "df"
   ]
  },
  {
   "cell_type": "code",
   "execution_count": 153,
   "id": "5f6cfe55",
   "metadata": {},
   "outputs": [],
   "source": [
    "# perform effect encoding\n",
    "# choose 'male' as the reference category\n",
    "df[\"gender_male_ref\"] = df[\"gender\"].apply(lambda x: -1 if x == \"male\" else 1 if x == 'female' else 0)\n",
    "\n",
    "# create binary categories\n",
    "df[\"gender_female\"] = df[\"gender\"].apply(lambda x: 1 if x == \"female\" else 0)\n",
    "df[\"gender_nonbinary\"] = df[\"gender\"].apply(lambda x: 1 if x == \"non-binary\" else 0)"
   ]
  },
  {
   "cell_type": "code",
   "execution_count": 154,
   "id": "04d31f25",
   "metadata": {},
   "outputs": [
    {
     "data": {
      "text/html": [
       "<div>\n",
       "<style scoped>\n",
       "    .dataframe tbody tr th:only-of-type {\n",
       "        vertical-align: middle;\n",
       "    }\n",
       "\n",
       "    .dataframe tbody tr th {\n",
       "        vertical-align: top;\n",
       "    }\n",
       "\n",
       "    .dataframe thead th {\n",
       "        text-align: right;\n",
       "    }\n",
       "</style>\n",
       "<table border=\"1\" class=\"dataframe\">\n",
       "  <thead>\n",
       "    <tr style=\"text-align: right;\">\n",
       "      <th></th>\n",
       "      <th>gender</th>\n",
       "      <th>gender_male_ref</th>\n",
       "      <th>gender_female</th>\n",
       "      <th>gender_nonbinary</th>\n",
       "    </tr>\n",
       "  </thead>\n",
       "  <tbody>\n",
       "    <tr>\n",
       "      <th>0</th>\n",
       "      <td>male</td>\n",
       "      <td>-1</td>\n",
       "      <td>0</td>\n",
       "      <td>0</td>\n",
       "    </tr>\n",
       "    <tr>\n",
       "      <th>1</th>\n",
       "      <td>female</td>\n",
       "      <td>1</td>\n",
       "      <td>1</td>\n",
       "      <td>0</td>\n",
       "    </tr>\n",
       "    <tr>\n",
       "      <th>2</th>\n",
       "      <td>non-binary</td>\n",
       "      <td>0</td>\n",
       "      <td>0</td>\n",
       "      <td>1</td>\n",
       "    </tr>\n",
       "    <tr>\n",
       "      <th>3</th>\n",
       "      <td>male</td>\n",
       "      <td>-1</td>\n",
       "      <td>0</td>\n",
       "      <td>0</td>\n",
       "    </tr>\n",
       "    <tr>\n",
       "      <th>4</th>\n",
       "      <td>female</td>\n",
       "      <td>1</td>\n",
       "      <td>1</td>\n",
       "      <td>0</td>\n",
       "    </tr>\n",
       "  </tbody>\n",
       "</table>\n",
       "</div>"
      ],
      "text/plain": [
       "       gender  gender_male_ref  gender_female  gender_nonbinary\n",
       "0        male               -1              0                 0\n",
       "1      female                1              1                 0\n",
       "2  non-binary                0              0                 1\n",
       "3        male               -1              0                 0\n",
       "4      female                1              1                 0"
      ]
     },
     "execution_count": 154,
     "metadata": {},
     "output_type": "execute_result"
    }
   ],
   "source": [
    "df"
   ]
  },
  {
   "cell_type": "code",
   "execution_count": 34,
   "id": "6086b3f7",
   "metadata": {},
   "outputs": [
    {
     "data": {
      "text/html": [
       "<div>\n",
       "<style scoped>\n",
       "    .dataframe tbody tr th:only-of-type {\n",
       "        vertical-align: middle;\n",
       "    }\n",
       "\n",
       "    .dataframe tbody tr th {\n",
       "        vertical-align: top;\n",
       "    }\n",
       "\n",
       "    .dataframe thead th {\n",
       "        text-align: right;\n",
       "    }\n",
       "</style>\n",
       "<table border=\"1\" class=\"dataframe\">\n",
       "  <thead>\n",
       "    <tr style=\"text-align: right;\">\n",
       "      <th></th>\n",
       "      <th>City</th>\n",
       "    </tr>\n",
       "  </thead>\n",
       "  <tbody>\n",
       "    <tr>\n",
       "      <th>0</th>\n",
       "      <td>Delhi</td>\n",
       "    </tr>\n",
       "    <tr>\n",
       "      <th>1</th>\n",
       "      <td>Mumbai</td>\n",
       "    </tr>\n",
       "    <tr>\n",
       "      <th>2</th>\n",
       "      <td>Hyderabad</td>\n",
       "    </tr>\n",
       "    <tr>\n",
       "      <th>3</th>\n",
       "      <td>Chennai</td>\n",
       "    </tr>\n",
       "    <tr>\n",
       "      <th>4</th>\n",
       "      <td>Bangalore</td>\n",
       "    </tr>\n",
       "    <tr>\n",
       "      <th>5</th>\n",
       "      <td>Delhi</td>\n",
       "    </tr>\n",
       "    <tr>\n",
       "      <th>6</th>\n",
       "      <td>Hyderabad</td>\n",
       "    </tr>\n",
       "  </tbody>\n",
       "</table>\n",
       "</div>"
      ],
      "text/plain": [
       "        City\n",
       "0      Delhi\n",
       "1     Mumbai\n",
       "2  Hyderabad\n",
       "3    Chennai\n",
       "4  Bangalore\n",
       "5      Delhi\n",
       "6  Hyderabad"
      ]
     },
     "execution_count": 34,
     "metadata": {},
     "output_type": "execute_result"
    }
   ],
   "source": [
    "# perform effect encoding\n",
    "\n",
    "import category_encoders as ce\n",
    "import pandas as pd\n",
    "\n",
    "data = pd.DataFrame({'City': ['Delhi','Mumbai','Hyderabad','Chennai','Bangalore','Delhi','Hyderabad']})\n",
    "\n",
    "encoder=ce.sum_coding.SumEncoder(cols='City',verbose=False,)\n",
    "\n",
    "\n",
    "#Original Data\n",
    "data"
   ]
  },
  {
   "cell_type": "code",
   "execution_count": 35,
   "id": "fe890901",
   "metadata": {},
   "outputs": [
    {
     "name": "stderr",
     "output_type": "stream",
     "text": [
      "C:\\Users\\Surya Charan Teja\\AppData\\Local\\Programs\\Python\\Python311\\Lib\\site-packages\\category_encoders\\base_contrast_encoder.py:126: FutureWarning: Intercept column might not be added anymore in future releases (c.f. issue #370)\n",
      "  warnings.warn(\"Intercept column might not be added anymore in future releases (c.f. issue #370)\",\n",
      "C:\\Users\\Surya Charan Teja\\AppData\\Local\\Programs\\Python\\Python311\\Lib\\site-packages\\category_encoders\\base_contrast_encoder.py:126: FutureWarning: Intercept column might not be added anymore in future releases (c.f. issue #370)\n",
      "  warnings.warn(\"Intercept column might not be added anymore in future releases (c.f. issue #370)\",\n"
     ]
    },
    {
     "data": {
      "text/html": [
       "<div>\n",
       "<style scoped>\n",
       "    .dataframe tbody tr th:only-of-type {\n",
       "        vertical-align: middle;\n",
       "    }\n",
       "\n",
       "    .dataframe tbody tr th {\n",
       "        vertical-align: top;\n",
       "    }\n",
       "\n",
       "    .dataframe thead th {\n",
       "        text-align: right;\n",
       "    }\n",
       "</style>\n",
       "<table border=\"1\" class=\"dataframe\">\n",
       "  <thead>\n",
       "    <tr style=\"text-align: right;\">\n",
       "      <th></th>\n",
       "      <th>intercept</th>\n",
       "      <th>City_0</th>\n",
       "      <th>City_1</th>\n",
       "      <th>City_2</th>\n",
       "      <th>City_3</th>\n",
       "    </tr>\n",
       "  </thead>\n",
       "  <tbody>\n",
       "    <tr>\n",
       "      <th>0</th>\n",
       "      <td>1</td>\n",
       "      <td>1.0</td>\n",
       "      <td>0.0</td>\n",
       "      <td>0.0</td>\n",
       "      <td>0.0</td>\n",
       "    </tr>\n",
       "    <tr>\n",
       "      <th>1</th>\n",
       "      <td>1</td>\n",
       "      <td>0.0</td>\n",
       "      <td>1.0</td>\n",
       "      <td>0.0</td>\n",
       "      <td>0.0</td>\n",
       "    </tr>\n",
       "    <tr>\n",
       "      <th>2</th>\n",
       "      <td>1</td>\n",
       "      <td>0.0</td>\n",
       "      <td>0.0</td>\n",
       "      <td>1.0</td>\n",
       "      <td>0.0</td>\n",
       "    </tr>\n",
       "    <tr>\n",
       "      <th>3</th>\n",
       "      <td>1</td>\n",
       "      <td>0.0</td>\n",
       "      <td>0.0</td>\n",
       "      <td>0.0</td>\n",
       "      <td>1.0</td>\n",
       "    </tr>\n",
       "    <tr>\n",
       "      <th>4</th>\n",
       "      <td>1</td>\n",
       "      <td>-1.0</td>\n",
       "      <td>-1.0</td>\n",
       "      <td>-1.0</td>\n",
       "      <td>-1.0</td>\n",
       "    </tr>\n",
       "    <tr>\n",
       "      <th>5</th>\n",
       "      <td>1</td>\n",
       "      <td>1.0</td>\n",
       "      <td>0.0</td>\n",
       "      <td>0.0</td>\n",
       "      <td>0.0</td>\n",
       "    </tr>\n",
       "    <tr>\n",
       "      <th>6</th>\n",
       "      <td>1</td>\n",
       "      <td>0.0</td>\n",
       "      <td>0.0</td>\n",
       "      <td>1.0</td>\n",
       "      <td>0.0</td>\n",
       "    </tr>\n",
       "  </tbody>\n",
       "</table>\n",
       "</div>"
      ],
      "text/plain": [
       "   intercept  City_0  City_1  City_2  City_3\n",
       "0          1     1.0     0.0     0.0     0.0\n",
       "1          1     0.0     1.0     0.0     0.0\n",
       "2          1     0.0     0.0     1.0     0.0\n",
       "3          1     0.0     0.0     0.0     1.0\n",
       "4          1    -1.0    -1.0    -1.0    -1.0\n",
       "5          1     1.0     0.0     0.0     0.0\n",
       "6          1     0.0     0.0     1.0     0.0"
      ]
     },
     "execution_count": 35,
     "metadata": {},
     "output_type": "execute_result"
    }
   ],
   "source": [
    "encoder.fit_transform(data)"
   ]
  },
  {
   "cell_type": "markdown",
   "id": "5074d2e9",
   "metadata": {},
   "source": [
    "# Hash encoder"
   ]
  },
  {
   "cell_type": "markdown",
   "id": "5c60fc11",
   "metadata": {},
   "source": [
    "### Hashing"
   ]
  },
  {
   "cell_type": "markdown",
   "id": "156f64be",
   "metadata": {},
   "source": [
    "##### Hashing is a process of converting any input data into a fixed-size string of characters. which is typically a sequence of numbers and letters\n",
    "ex: text, numbers, type of data"
   ]
  },
  {
   "cell_type": "markdown",
   "id": "a3cf5f66",
   "metadata": {},
   "source": [
    "##### applications:\n",
    "    computer science,\n",
    "    git_ commits _ number or id\n",
    "    cryptography\n",
    "    "
   ]
  },
  {
   "cell_type": "code",
   "execution_count": 36,
   "id": "ccc12001",
   "metadata": {},
   "outputs": [],
   "source": [
    "text = \"Hare Krishna!\""
   ]
  },
  {
   "cell_type": "code",
   "execution_count": 37,
   "id": "380b08e8",
   "metadata": {},
   "outputs": [
    {
     "data": {
      "text/plain": [
       "'Hare Krishna!'"
      ]
     },
     "execution_count": 37,
     "metadata": {},
     "output_type": "execute_result"
    }
   ],
   "source": [
    "text"
   ]
  },
  {
   "cell_type": "code",
   "execution_count": 163,
   "id": "81b26d30",
   "metadata": {},
   "outputs": [],
   "source": [
    "hash_code = hash(text)"
   ]
  },
  {
   "cell_type": "code",
   "execution_count": 164,
   "id": "87ac2c96",
   "metadata": {},
   "outputs": [
    {
     "data": {
      "text/plain": [
       "-2950442115550599277"
      ]
     },
     "execution_count": 164,
     "metadata": {},
     "output_type": "execute_result"
    }
   ],
   "source": [
    "hash_code"
   ]
  },
  {
   "cell_type": "code",
   "execution_count": 165,
   "id": "192be4f0",
   "metadata": {},
   "outputs": [
    {
     "name": "stdout",
     "output_type": "stream",
     "text": [
      "-4570839834281456689\n"
     ]
    }
   ],
   "source": [
    "text1 = \"hare Krishna!\"\n",
    "hash_code1 = hash(text1)\n",
    "print(hash_code1)"
   ]
  },
  {
   "cell_type": "markdown",
   "id": "0cb6f4b8",
   "metadata": {},
   "source": [
    "#### data storage, data retrieveal, data integrity verification, password hashing, digital signatures, etc..."
   ]
  },
  {
   "cell_type": "code",
   "execution_count": 46,
   "id": "ca78a8f7",
   "metadata": {},
   "outputs": [],
   "source": [
    "import hashlib"
   ]
  },
  {
   "cell_type": "code",
   "execution_count": 47,
   "id": "23cdad4e",
   "metadata": {},
   "outputs": [],
   "source": [
    "\n",
    "# Create a sample DataFrame\n",
    "data = {'gender': ['male', 'female', 'non-binary', 'male', 'female']}\n",
    "df = pd.DataFrame(data)\n",
    "\n"
   ]
  },
  {
   "cell_type": "code",
   "execution_count": 48,
   "id": "8831d1d5",
   "metadata": {},
   "outputs": [
    {
     "data": {
      "text/html": [
       "<div>\n",
       "<style scoped>\n",
       "    .dataframe tbody tr th:only-of-type {\n",
       "        vertical-align: middle;\n",
       "    }\n",
       "\n",
       "    .dataframe tbody tr th {\n",
       "        vertical-align: top;\n",
       "    }\n",
       "\n",
       "    .dataframe thead th {\n",
       "        text-align: right;\n",
       "    }\n",
       "</style>\n",
       "<table border=\"1\" class=\"dataframe\">\n",
       "  <thead>\n",
       "    <tr style=\"text-align: right;\">\n",
       "      <th></th>\n",
       "      <th>gender</th>\n",
       "    </tr>\n",
       "  </thead>\n",
       "  <tbody>\n",
       "    <tr>\n",
       "      <th>0</th>\n",
       "      <td>male</td>\n",
       "    </tr>\n",
       "    <tr>\n",
       "      <th>1</th>\n",
       "      <td>female</td>\n",
       "    </tr>\n",
       "    <tr>\n",
       "      <th>2</th>\n",
       "      <td>non-binary</td>\n",
       "    </tr>\n",
       "    <tr>\n",
       "      <th>3</th>\n",
       "      <td>male</td>\n",
       "    </tr>\n",
       "    <tr>\n",
       "      <th>4</th>\n",
       "      <td>female</td>\n",
       "    </tr>\n",
       "  </tbody>\n",
       "</table>\n",
       "</div>"
      ],
      "text/plain": [
       "       gender\n",
       "0        male\n",
       "1      female\n",
       "2  non-binary\n",
       "3        male\n",
       "4      female"
      ]
     },
     "execution_count": 48,
     "metadata": {},
     "output_type": "execute_result"
    }
   ],
   "source": [
    "df"
   ]
  },
  {
   "cell_type": "code",
   "execution_count": 49,
   "id": "7e88909b",
   "metadata": {},
   "outputs": [
    {
     "name": "stdout",
     "output_type": "stream",
     "text": [
      "       gender  gender_hash_encoded\n",
      "0        male                    9\n",
      "1      female                    5\n",
      "2  non-binary                    4\n",
      "3        male                    9\n",
      "4      female                    5\n"
     ]
    }
   ],
   "source": [
    "# perform hash encoding\n",
    "hash_size = 10\n",
    "\n",
    "df[\"gender_hash_encoded\"] = df[\"gender\"].apply(lambda x: int(hashlib.md5(x.encode('utf-8')).hexdigest(), 16) % hash_size)\n",
    "\n",
    "# display the resulting DataFrame\n",
    "print(df)"
   ]
  },
  {
   "cell_type": "code",
   "execution_count": null,
   "id": "639ff4ee",
   "metadata": {},
   "outputs": [],
   "source": []
  },
  {
   "cell_type": "markdown",
   "id": "2b94ff97",
   "metadata": {},
   "source": [
    "# Binary encoding"
   ]
  },
  {
   "cell_type": "code",
   "execution_count": 50,
   "id": "ef66cc74",
   "metadata": {},
   "outputs": [],
   "source": [
    "# create a sample DataFrame\n",
    "dfb = pd.DataFrame({\"Animal\": [\"Dog\", \"Cat\", \"Sheep\", \"Lion\", \"Horse\", \"Cat\", \"Sheep\", \"Dog\", \"Cat\", \"Sheep\", \"Lion\", \"Horse\", \"Cat\", \"Sheep\", \"Dog\", \"Cat\", \"Sheep\", \"Lion\", \"Horse\", \"Cat\", \"Sheep\", \"Lion\", \"Horse\", \"Cat\", \"Sheep\", \"Dog\", \"Cat\", \"Sheep\", \"Lion\", \"Horse\", \"Cat\", \"Sheep\", \"Dog\", \"Cat\", \"Sheep\", \"Lion\", \"Horse\", \"Cat\", \"Sheep\", \"Dog\", \"Cat\", \"Sheep\", \"Lion\", \"Horse\", \"Cat\", \"Sheep\", \"Dog\", \"Cat\", \"Sheep\", \"Lion\", \"Horse\", \"Cat\", \"Sheep\", \"Lion\", \"Horse\", \"Cat\", \"Sheep\", \"Dog\", \"Cat\", \"Sheep\", \"Lion\", \"Horse\", \"Cat\", \"Sheep\"]})"
   ]
  },
  {
   "cell_type": "code",
   "execution_count": 51,
   "id": "500f8928",
   "metadata": {
    "scrolled": true
   },
   "outputs": [
    {
     "data": {
      "text/html": [
       "<div>\n",
       "<style scoped>\n",
       "    .dataframe tbody tr th:only-of-type {\n",
       "        vertical-align: middle;\n",
       "    }\n",
       "\n",
       "    .dataframe tbody tr th {\n",
       "        vertical-align: top;\n",
       "    }\n",
       "\n",
       "    .dataframe thead th {\n",
       "        text-align: right;\n",
       "    }\n",
       "</style>\n",
       "<table border=\"1\" class=\"dataframe\">\n",
       "  <thead>\n",
       "    <tr style=\"text-align: right;\">\n",
       "      <th></th>\n",
       "      <th>Animal</th>\n",
       "    </tr>\n",
       "  </thead>\n",
       "  <tbody>\n",
       "    <tr>\n",
       "      <th>0</th>\n",
       "      <td>Dog</td>\n",
       "    </tr>\n",
       "    <tr>\n",
       "      <th>1</th>\n",
       "      <td>Cat</td>\n",
       "    </tr>\n",
       "    <tr>\n",
       "      <th>2</th>\n",
       "      <td>Sheep</td>\n",
       "    </tr>\n",
       "    <tr>\n",
       "      <th>3</th>\n",
       "      <td>Lion</td>\n",
       "    </tr>\n",
       "    <tr>\n",
       "      <th>4</th>\n",
       "      <td>Horse</td>\n",
       "    </tr>\n",
       "    <tr>\n",
       "      <th>...</th>\n",
       "      <td>...</td>\n",
       "    </tr>\n",
       "    <tr>\n",
       "      <th>59</th>\n",
       "      <td>Sheep</td>\n",
       "    </tr>\n",
       "    <tr>\n",
       "      <th>60</th>\n",
       "      <td>Lion</td>\n",
       "    </tr>\n",
       "    <tr>\n",
       "      <th>61</th>\n",
       "      <td>Horse</td>\n",
       "    </tr>\n",
       "    <tr>\n",
       "      <th>62</th>\n",
       "      <td>Cat</td>\n",
       "    </tr>\n",
       "    <tr>\n",
       "      <th>63</th>\n",
       "      <td>Sheep</td>\n",
       "    </tr>\n",
       "  </tbody>\n",
       "</table>\n",
       "<p>64 rows × 1 columns</p>\n",
       "</div>"
      ],
      "text/plain": [
       "   Animal\n",
       "0     Dog\n",
       "1     Cat\n",
       "2   Sheep\n",
       "3    Lion\n",
       "4   Horse\n",
       "..    ...\n",
       "59  Sheep\n",
       "60   Lion\n",
       "61  Horse\n",
       "62    Cat\n",
       "63  Sheep\n",
       "\n",
       "[64 rows x 1 columns]"
      ]
     },
     "execution_count": 51,
     "metadata": {},
     "output_type": "execute_result"
    }
   ],
   "source": [
    "dfb"
   ]
  },
  {
   "cell_type": "code",
   "execution_count": 53,
   "id": "5d420f07",
   "metadata": {},
   "outputs": [],
   "source": [
    "from category_encoders import BinaryEncoder"
   ]
  },
  {
   "cell_type": "code",
   "execution_count": 54,
   "id": "8639e48d",
   "metadata": {},
   "outputs": [],
   "source": [
    "# perform binary encoding using BinaryEncoder\n",
    "\n",
    "encoder = BinaryEncoder()"
   ]
  },
  {
   "cell_type": "code",
   "execution_count": 55,
   "id": "76a2e57c",
   "metadata": {},
   "outputs": [],
   "source": [
    "dfb_encoded = encoder.fit_transform(dfb)"
   ]
  },
  {
   "cell_type": "code",
   "execution_count": 56,
   "id": "3dba1334",
   "metadata": {},
   "outputs": [
    {
     "data": {
      "text/html": [
       "<div>\n",
       "<style scoped>\n",
       "    .dataframe tbody tr th:only-of-type {\n",
       "        vertical-align: middle;\n",
       "    }\n",
       "\n",
       "    .dataframe tbody tr th {\n",
       "        vertical-align: top;\n",
       "    }\n",
       "\n",
       "    .dataframe thead th {\n",
       "        text-align: right;\n",
       "    }\n",
       "</style>\n",
       "<table border=\"1\" class=\"dataframe\">\n",
       "  <thead>\n",
       "    <tr style=\"text-align: right;\">\n",
       "      <th></th>\n",
       "      <th>Animal_0</th>\n",
       "      <th>Animal_1</th>\n",
       "      <th>Animal_2</th>\n",
       "    </tr>\n",
       "  </thead>\n",
       "  <tbody>\n",
       "    <tr>\n",
       "      <th>0</th>\n",
       "      <td>0</td>\n",
       "      <td>0</td>\n",
       "      <td>1</td>\n",
       "    </tr>\n",
       "    <tr>\n",
       "      <th>1</th>\n",
       "      <td>0</td>\n",
       "      <td>1</td>\n",
       "      <td>0</td>\n",
       "    </tr>\n",
       "    <tr>\n",
       "      <th>2</th>\n",
       "      <td>0</td>\n",
       "      <td>1</td>\n",
       "      <td>1</td>\n",
       "    </tr>\n",
       "    <tr>\n",
       "      <th>3</th>\n",
       "      <td>1</td>\n",
       "      <td>0</td>\n",
       "      <td>0</td>\n",
       "    </tr>\n",
       "    <tr>\n",
       "      <th>4</th>\n",
       "      <td>1</td>\n",
       "      <td>0</td>\n",
       "      <td>1</td>\n",
       "    </tr>\n",
       "    <tr>\n",
       "      <th>...</th>\n",
       "      <td>...</td>\n",
       "      <td>...</td>\n",
       "      <td>...</td>\n",
       "    </tr>\n",
       "    <tr>\n",
       "      <th>59</th>\n",
       "      <td>0</td>\n",
       "      <td>1</td>\n",
       "      <td>1</td>\n",
       "    </tr>\n",
       "    <tr>\n",
       "      <th>60</th>\n",
       "      <td>1</td>\n",
       "      <td>0</td>\n",
       "      <td>0</td>\n",
       "    </tr>\n",
       "    <tr>\n",
       "      <th>61</th>\n",
       "      <td>1</td>\n",
       "      <td>0</td>\n",
       "      <td>1</td>\n",
       "    </tr>\n",
       "    <tr>\n",
       "      <th>62</th>\n",
       "      <td>0</td>\n",
       "      <td>1</td>\n",
       "      <td>0</td>\n",
       "    </tr>\n",
       "    <tr>\n",
       "      <th>63</th>\n",
       "      <td>0</td>\n",
       "      <td>1</td>\n",
       "      <td>1</td>\n",
       "    </tr>\n",
       "  </tbody>\n",
       "</table>\n",
       "<p>64 rows × 3 columns</p>\n",
       "</div>"
      ],
      "text/plain": [
       "    Animal_0  Animal_1  Animal_2\n",
       "0          0         0         1\n",
       "1          0         1         0\n",
       "2          0         1         1\n",
       "3          1         0         0\n",
       "4          1         0         1\n",
       "..       ...       ...       ...\n",
       "59         0         1         1\n",
       "60         1         0         0\n",
       "61         1         0         1\n",
       "62         0         1         0\n",
       "63         0         1         1\n",
       "\n",
       "[64 rows x 3 columns]"
      ]
     },
     "execution_count": 56,
     "metadata": {},
     "output_type": "execute_result"
    }
   ],
   "source": [
    "dfb_encoded"
   ]
  },
  {
   "cell_type": "code",
   "execution_count": 57,
   "id": "df95cbef",
   "metadata": {},
   "outputs": [],
   "source": [
    "dfb_f = pd.concat([dfb, dfb_encoded], axis=1)"
   ]
  },
  {
   "cell_type": "code",
   "execution_count": 58,
   "id": "8e65dfa3",
   "metadata": {},
   "outputs": [
    {
     "data": {
      "text/html": [
       "<div>\n",
       "<style scoped>\n",
       "    .dataframe tbody tr th:only-of-type {\n",
       "        vertical-align: middle;\n",
       "    }\n",
       "\n",
       "    .dataframe tbody tr th {\n",
       "        vertical-align: top;\n",
       "    }\n",
       "\n",
       "    .dataframe thead th {\n",
       "        text-align: right;\n",
       "    }\n",
       "</style>\n",
       "<table border=\"1\" class=\"dataframe\">\n",
       "  <thead>\n",
       "    <tr style=\"text-align: right;\">\n",
       "      <th></th>\n",
       "      <th>Animal</th>\n",
       "      <th>Animal_0</th>\n",
       "      <th>Animal_1</th>\n",
       "      <th>Animal_2</th>\n",
       "    </tr>\n",
       "  </thead>\n",
       "  <tbody>\n",
       "    <tr>\n",
       "      <th>0</th>\n",
       "      <td>Dog</td>\n",
       "      <td>0</td>\n",
       "      <td>0</td>\n",
       "      <td>1</td>\n",
       "    </tr>\n",
       "    <tr>\n",
       "      <th>1</th>\n",
       "      <td>Cat</td>\n",
       "      <td>0</td>\n",
       "      <td>1</td>\n",
       "      <td>0</td>\n",
       "    </tr>\n",
       "    <tr>\n",
       "      <th>2</th>\n",
       "      <td>Sheep</td>\n",
       "      <td>0</td>\n",
       "      <td>1</td>\n",
       "      <td>1</td>\n",
       "    </tr>\n",
       "    <tr>\n",
       "      <th>3</th>\n",
       "      <td>Lion</td>\n",
       "      <td>1</td>\n",
       "      <td>0</td>\n",
       "      <td>0</td>\n",
       "    </tr>\n",
       "    <tr>\n",
       "      <th>4</th>\n",
       "      <td>Horse</td>\n",
       "      <td>1</td>\n",
       "      <td>0</td>\n",
       "      <td>1</td>\n",
       "    </tr>\n",
       "    <tr>\n",
       "      <th>...</th>\n",
       "      <td>...</td>\n",
       "      <td>...</td>\n",
       "      <td>...</td>\n",
       "      <td>...</td>\n",
       "    </tr>\n",
       "    <tr>\n",
       "      <th>59</th>\n",
       "      <td>Sheep</td>\n",
       "      <td>0</td>\n",
       "      <td>1</td>\n",
       "      <td>1</td>\n",
       "    </tr>\n",
       "    <tr>\n",
       "      <th>60</th>\n",
       "      <td>Lion</td>\n",
       "      <td>1</td>\n",
       "      <td>0</td>\n",
       "      <td>0</td>\n",
       "    </tr>\n",
       "    <tr>\n",
       "      <th>61</th>\n",
       "      <td>Horse</td>\n",
       "      <td>1</td>\n",
       "      <td>0</td>\n",
       "      <td>1</td>\n",
       "    </tr>\n",
       "    <tr>\n",
       "      <th>62</th>\n",
       "      <td>Cat</td>\n",
       "      <td>0</td>\n",
       "      <td>1</td>\n",
       "      <td>0</td>\n",
       "    </tr>\n",
       "    <tr>\n",
       "      <th>63</th>\n",
       "      <td>Sheep</td>\n",
       "      <td>0</td>\n",
       "      <td>1</td>\n",
       "      <td>1</td>\n",
       "    </tr>\n",
       "  </tbody>\n",
       "</table>\n",
       "<p>64 rows × 4 columns</p>\n",
       "</div>"
      ],
      "text/plain": [
       "   Animal  Animal_0  Animal_1  Animal_2\n",
       "0     Dog         0         0         1\n",
       "1     Cat         0         1         0\n",
       "2   Sheep         0         1         1\n",
       "3    Lion         1         0         0\n",
       "4   Horse         1         0         1\n",
       "..    ...       ...       ...       ...\n",
       "59  Sheep         0         1         1\n",
       "60   Lion         1         0         0\n",
       "61  Horse         1         0         1\n",
       "62    Cat         0         1         0\n",
       "63  Sheep         0         1         1\n",
       "\n",
       "[64 rows x 4 columns]"
      ]
     },
     "execution_count": 58,
     "metadata": {},
     "output_type": "execute_result"
    }
   ],
   "source": [
    "dfb_f"
   ]
  },
  {
   "cell_type": "code",
   "execution_count": null,
   "id": "e08cf45f",
   "metadata": {},
   "outputs": [],
   "source": [
    "Dog = 001 = 1\n",
    "Cat = 010 = 2\n",
    "Sheep 011 = 3\n",
    "Lion = 100 = 4 \n",
    "Horse = 101 = 5"
   ]
  },
  {
   "cell_type": "code",
   "execution_count": 192,
   "id": "a4aeded9",
   "metadata": {},
   "outputs": [
    {
     "name": "stdout",
     "output_type": "stream",
     "text": [
      "numeric code:  1\n"
     ]
    }
   ],
   "source": [
    "Dog = 0b001\n",
    "print(\"numeric code: \", Dog)"
   ]
  },
  {
   "cell_type": "code",
   "execution_count": 193,
   "id": "efe34fbe",
   "metadata": {},
   "outputs": [
    {
     "name": "stdout",
     "output_type": "stream",
     "text": [
      "numeric code:  2\n"
     ]
    }
   ],
   "source": [
    "Cat = 0b010\n",
    "print(\"numeric code: \", Cat)"
   ]
  },
  {
   "cell_type": "code",
   "execution_count": 194,
   "id": "3afc7270",
   "metadata": {},
   "outputs": [
    {
     "name": "stdout",
     "output_type": "stream",
     "text": [
      "numeric code:  3\n"
     ]
    }
   ],
   "source": [
    "Sheep = 0b011\n",
    "print(\"numeric code: \", Sheep)"
   ]
  },
  {
   "cell_type": "code",
   "execution_count": 195,
   "id": "742a54b7",
   "metadata": {},
   "outputs": [
    {
     "name": "stdout",
     "output_type": "stream",
     "text": [
      "numeric code:  4\n"
     ]
    }
   ],
   "source": [
    "Lion = 0b100\n",
    "print(\"numeric code: \", Lion)"
   ]
  },
  {
   "cell_type": "code",
   "execution_count": 196,
   "id": "370fb53a",
   "metadata": {},
   "outputs": [
    {
     "name": "stdout",
     "output_type": "stream",
     "text": [
      "numeric code:  5\n"
     ]
    }
   ],
   "source": [
    "Horse = 0b101\n",
    "print(\"numeric code: \", Horse)"
   ]
  },
  {
   "cell_type": "code",
   "execution_count": 205,
   "id": "c4356d89",
   "metadata": {},
   "outputs": [],
   "source": [
    "\n",
    "# Create a DataFrame\n",
    "data = {'Gender': ['Male', 'Female', 'Male', 'Male', 'Female', 'Female', 'Male', 'Female'],\n",
    "        'Study_hours': ['Low hours', 'Medium hours', 'High hours', 'Medium hours', 'Low hours', 'High hours', 'High hours', 'Medium hours'],\n",
    "        'Result': ['Pass', 'Fail', 'Pass', 'Fail', 'Fail', 'Pass', 'Pass', 'Fail']}\n",
    "dfT = pd.DataFrame(data)\n"
   ]
  },
  {
   "cell_type": "markdown",
   "id": "fe8dd1ca",
   "metadata": {},
   "source": [
    "# Target or Bayesian or mean encoding"
   ]
  },
  {
   "cell_type": "markdown",
   "id": "72c5be2d",
   "metadata": {},
   "source": [
    "### based on the mean of the target variable for each category"
   ]
  },
  {
   "cell_type": "markdown",
   "id": "c59b8e6c",
   "metadata": {},
   "source": [
    "##### is used in machine learning tasks such as binary classification or regression"
   ]
  },
  {
   "cell_type": "code",
   "execution_count": 207,
   "id": "e7ed3508",
   "metadata": {},
   "outputs": [
    {
     "data": {
      "text/html": [
       "<div>\n",
       "<style scoped>\n",
       "    .dataframe tbody tr th:only-of-type {\n",
       "        vertical-align: middle;\n",
       "    }\n",
       "\n",
       "    .dataframe tbody tr th {\n",
       "        vertical-align: top;\n",
       "    }\n",
       "\n",
       "    .dataframe thead th {\n",
       "        text-align: right;\n",
       "    }\n",
       "</style>\n",
       "<table border=\"1\" class=\"dataframe\">\n",
       "  <thead>\n",
       "    <tr style=\"text-align: right;\">\n",
       "      <th></th>\n",
       "      <th>Gender</th>\n",
       "      <th>Study_hours</th>\n",
       "      <th>Result</th>\n",
       "    </tr>\n",
       "  </thead>\n",
       "  <tbody>\n",
       "    <tr>\n",
       "      <th>0</th>\n",
       "      <td>Male</td>\n",
       "      <td>Low hours</td>\n",
       "      <td>Pass</td>\n",
       "    </tr>\n",
       "    <tr>\n",
       "      <th>1</th>\n",
       "      <td>Female</td>\n",
       "      <td>Medium hours</td>\n",
       "      <td>Fail</td>\n",
       "    </tr>\n",
       "    <tr>\n",
       "      <th>2</th>\n",
       "      <td>Male</td>\n",
       "      <td>High hours</td>\n",
       "      <td>Pass</td>\n",
       "    </tr>\n",
       "    <tr>\n",
       "      <th>3</th>\n",
       "      <td>Male</td>\n",
       "      <td>Medium hours</td>\n",
       "      <td>Fail</td>\n",
       "    </tr>\n",
       "    <tr>\n",
       "      <th>4</th>\n",
       "      <td>Female</td>\n",
       "      <td>Low hours</td>\n",
       "      <td>Fail</td>\n",
       "    </tr>\n",
       "    <tr>\n",
       "      <th>5</th>\n",
       "      <td>Female</td>\n",
       "      <td>High hours</td>\n",
       "      <td>Pass</td>\n",
       "    </tr>\n",
       "    <tr>\n",
       "      <th>6</th>\n",
       "      <td>Male</td>\n",
       "      <td>High hours</td>\n",
       "      <td>Pass</td>\n",
       "    </tr>\n",
       "    <tr>\n",
       "      <th>7</th>\n",
       "      <td>Female</td>\n",
       "      <td>Medium hours</td>\n",
       "      <td>Fail</td>\n",
       "    </tr>\n",
       "  </tbody>\n",
       "</table>\n",
       "</div>"
      ],
      "text/plain": [
       "   Gender   Study_hours Result\n",
       "0    Male     Low hours   Pass\n",
       "1  Female  Medium hours   Fail\n",
       "2    Male    High hours   Pass\n",
       "3    Male  Medium hours   Fail\n",
       "4  Female     Low hours   Fail\n",
       "5  Female    High hours   Pass\n",
       "6    Male    High hours   Pass\n",
       "7  Female  Medium hours   Fail"
      ]
     },
     "execution_count": 207,
     "metadata": {},
     "output_type": "execute_result"
    }
   ],
   "source": [
    "dfT"
   ]
  },
  {
   "cell_type": "code",
   "execution_count": 208,
   "id": "3a561e1f",
   "metadata": {},
   "outputs": [],
   "source": [
    "import category_encoders as ce"
   ]
  },
  {
   "cell_type": "code",
   "execution_count": 209,
   "id": "3666cdd0",
   "metadata": {},
   "outputs": [],
   "source": [
    "# define the target encoding mapping\n",
    "target_mapping = {'Pass': 1, 'Fail': 0}"
   ]
  },
  {
   "cell_type": "code",
   "execution_count": 210,
   "id": "ede30c7d",
   "metadata": {},
   "outputs": [],
   "source": [
    "# Initialize the target encoder\n",
    "encoder = ce.TargetEncoder()"
   ]
  },
  {
   "cell_type": "code",
   "execution_count": 214,
   "id": "65063706",
   "metadata": {},
   "outputs": [],
   "source": [
    "# Perform target encoding\n",
    "dfT_encoded = encoder.fit_transform(dfT[['Gender', 'Study_hours']], dfT['Result'].map(target_mapping))"
   ]
  },
  {
   "cell_type": "code",
   "execution_count": 215,
   "id": "295a01a8",
   "metadata": {},
   "outputs": [],
   "source": [
    "# Concatenate the original dataframe with the encoded columns\n",
    "dfTe = pd.concat([dfT, dfT_encoded], axis=1)"
   ]
  },
  {
   "cell_type": "code",
   "execution_count": 216,
   "id": "800e47c0",
   "metadata": {},
   "outputs": [
    {
     "name": "stdout",
     "output_type": "stream",
     "text": [
      "   Gender   Study_hours Result    Gender  Study_hours\n",
      "0    Male     Low hours   Pass  0.541995     0.500000\n",
      "1  Female  Medium hours   Fail  0.458005     0.422767\n",
      "2    Male    High hours   Pass  0.541995     0.577233\n",
      "3    Male  Medium hours   Fail  0.541995     0.422767\n",
      "4  Female     Low hours   Fail  0.458005     0.500000\n",
      "5  Female    High hours   Pass  0.458005     0.577233\n",
      "6    Male    High hours   Pass  0.541995     0.577233\n",
      "7  Female  Medium hours   Fail  0.458005     0.422767\n"
     ]
    }
   ],
   "source": [
    "#Display the DataFrame with encoded variables\n",
    "print(dfTe)"
   ]
  },
  {
   "cell_type": "code",
   "execution_count": 217,
   "id": "ded7062b",
   "metadata": {},
   "outputs": [],
   "source": [
    "import pandas as pd\n",
    "import numpy as np\n",
    "\n",
    "# Define the Base N encoder function\n",
    "def base_n_encoder(df, column, base):\n",
    "    \"\"\"\n",
    "    Performs Base N encoding on a column in a DataFrame.\n",
    "    \n",
    "    Parameters:\n",
    "        - df (pd.DataFrame): The input DataFrame\n",
    "        - column (str): The name of the column to encode\n",
    "        - base (int): The base to use for encoding\n",
    "        \n",
    "    Returns:\n",
    "        - pd.DataFrame: The DataFrame with the encoded column\n",
    "    \"\"\"\n",
    "    # Get unique values in the column\n",
    "    unique_values = df[column].unique()\n",
    "\n",
    "    # Calculate the number of digits required for encoding\n",
    "    num_digits = int(np.ceil(np.log(len(unique_values)) / np.log(base)))\n",
    "\n",
    "    # Create a mapping of values to encoded strings\n",
    "    mapping = {value: np.base_repr(index, base=base, padding=num_digits) for index, value in enumerate(unique_values)}\n",
    "\n",
    "    # Apply the mapping to the column\n",
    "    df[column] = df[column].map(mapping)\n",
    "\n",
    "    return df\n",
    "\n"
   ]
  },
  {
   "cell_type": "markdown",
   "id": "cd85f6e7",
   "metadata": {},
   "source": [
    "# Base N Encoder"
   ]
  },
  {
   "cell_type": "markdown",
   "id": "0c0555c1",
   "metadata": {},
   "source": [
    "### the base or radix is the number of digits or a combination of digits and letters used to represent the numbers"
   ]
  },
  {
   "cell_type": "markdown",
   "id": "ce1db555",
   "metadata": {},
   "source": [
    "### base value = 10\n",
    "decimal system"
   ]
  },
  {
   "cell_type": "markdown",
   "id": "e69ceb3f",
   "metadata": {},
   "source": [
    "##### 10 unique digits, 0, 1, 2, 3, 4, 5, 6, 7, 8, 9 "
   ]
  },
  {
   "cell_type": "markdown",
   "id": "5b5af9a8",
   "metadata": {},
   "source": [
    "### base value = 2"
   ]
  },
  {
   "cell_type": "markdown",
   "id": "1d9f8fa2",
   "metadata": {},
   "source": [
    "binary system"
   ]
  },
  {
   "cell_type": "markdown",
   "id": "acfbcfda",
   "metadata": {},
   "source": [
    "##### it uses 0 and 1 "
   ]
  },
  {
   "cell_type": "markdown",
   "id": "cc2c478e",
   "metadata": {},
   "source": [
    "### larger base such as 4 or 8"
   ]
  },
  {
   "cell_type": "code",
   "execution_count": null,
   "id": "ce5cf62c",
   "metadata": {},
   "outputs": [],
   "source": []
  },
  {
   "cell_type": "code",
   "execution_count": 62,
   "id": "6cd2f3de",
   "metadata": {},
   "outputs": [
    {
     "name": "stdout",
     "output_type": "stream",
     "text": [
      "Outliers: [-1.74949351  2.35385071 -2.36672806  2.54728024  1.94017503  2.67539978]\n"
     ]
    }
   ],
   "source": [
    "import numpy as np\n",
    "from scipy.stats import zscore\n",
    "\n",
    "# Generate a random dataset\n",
    "data = np.random.normal(loc=0, scale=1, size=100)\n",
    "\n",
    "# Calculate Z-scores\n",
    "z_scores = zscore(data)\n",
    "\n",
    "# Set a threshold for identifying outliers\n",
    "threshold = 2\n",
    "\n",
    "# Identify outliers\n",
    "outliers = data[np.abs(z_scores) > threshold]\n",
    "\n",
    "# Print the identified outliers\n",
    "print(\"Outliers:\", outliers)\n"
   ]
  },
  {
   "cell_type": "code",
   "execution_count": 63,
   "id": "4a9f1e0b",
   "metadata": {},
   "outputs": [
    {
     "data": {
      "text/plain": [
       "array([-0.49079797, -0.7154525 , -0.59346579, -0.57363415, -0.06653975,\n",
       "        1.49933932,  1.72262659, -0.45724645,  1.13310114, -0.79529001,\n",
       "        0.73140562,  0.82142595,  0.65920487, -0.39582502, -0.30856973,\n",
       "        0.64219613, -0.23547795, -0.80791764,  0.40042989,  0.69177616,\n",
       "       -1.74949351,  0.39402412, -0.38425132,  0.33136194,  0.43719141,\n",
       "        0.58923779,  0.51661539,  0.35950976,  0.13478964,  1.53350447,\n",
       "       -1.36078368,  0.10471075, -0.80223951,  0.72086339,  0.08349321,\n",
       "        2.35385071,  0.24398764, -0.58766433, -0.85279353,  0.29780166,\n",
       "       -2.36672806, -0.95390527, -0.42962189, -0.63638934,  1.25939293,\n",
       "        2.54728024,  0.47701391,  0.75045616, -0.04442423, -0.47879253,\n",
       "        0.58683029,  0.75322218,  1.13994673, -0.76836703,  1.1880745 ,\n",
       "        0.21577321,  0.59192617, -0.43400997,  0.84547824,  0.26443892,\n",
       "       -1.35174112,  0.07047057,  0.66880684,  0.37430469, -0.02429994,\n",
       "       -0.9663858 , -0.54560329, -0.32714145, -0.1608858 ,  0.38350248,\n",
       "        0.19333116,  0.12306037,  1.94017503, -0.04167971,  0.83213928,\n",
       "       -1.0407464 , -0.99415391,  0.05857896, -0.86835259, -0.76494873,\n",
       "       -0.59564814,  0.83145141,  0.04464055, -0.87704934,  1.2937704 ,\n",
       "        0.11544524,  1.0908762 ,  0.17280862, -1.47450251,  2.67539978,\n",
       "       -1.23161521,  0.01874038,  0.25288939,  0.85695008, -0.49916455,\n",
       "        1.1123225 , -1.02190855,  1.31856043, -0.42780745,  0.2898379 ])"
      ]
     },
     "execution_count": 63,
     "metadata": {},
     "output_type": "execute_result"
    }
   ],
   "source": [
    "data"
   ]
  },
  {
   "cell_type": "code",
   "execution_count": 64,
   "id": "51305ba7",
   "metadata": {},
   "outputs": [
    {
     "name": "stdout",
     "output_type": "stream",
     "text": [
      "Outliers: []\n"
     ]
    }
   ],
   "source": [
    "import numpy as np\n",
    "\n",
    "# Generate a random dataset\n",
    "data = np.random.normal(loc=0, scale=1, size=100)\n",
    "\n",
    "# Calculate the 25th percentile (Q1)\n",
    "Q1 = np.percentile(data, 25)\n",
    "\n",
    "# Calculate the 75th percentile (Q3)\n",
    "Q3 = np.percentile(data, 75)\n",
    "\n",
    "# Calculate the IQR\n",
    "IQR = Q3 - Q1\n",
    "\n",
    "# Set a threshold for identifying outliers\n",
    "threshold = 1.5 * IQR\n",
    "\n",
    "# Identify outliers\n",
    "outliers = data[(data < (Q1 - threshold)) | (data > (Q3 + threshold))]\n",
    "\n",
    "# Print the identified outliers\n",
    "print(\"Outliers:\", outliers)\n"
   ]
  },
  {
   "cell_type": "code",
   "execution_count": 66,
   "id": "4a690bde",
   "metadata": {},
   "outputs": [
    {
     "data": {
      "image/png": "[encoded data removed]",
      "text/plain": [
       "<Figure size 640x480 with 1 Axes>"
      ]
     },
     "metadata": {},
     "output_type": "display_data"
    }
   ],
   "source": [
    "import matplotlib.pyplot as plt\n",
    "\n",
    "# Generate a random dataset\n",
    "data = [10, 15, 20, 25, 30, 35, 40, 45, 50, 60, 70, 80, 90, 100, 200, 300]\n",
    "\n",
    "# Create a box plot\n",
    "plt.boxplot(data)\n",
    "\n",
    "# Add labels and title\n",
    "plt.xlabel('Dataset')\n",
    "plt.ylabel('Values')\n",
    "plt.title('Box Plot Example')\n",
    "\n",
    "# Show the plot\n",
    "plt.show()\n"
   ]
  },
  {
   "cell_type": "code",
   "execution_count": 234,
   "id": "5c9a8bb2",
   "metadata": {},
   "outputs": [
    {
     "name": "stdout",
     "output_type": "stream",
     "text": [
      "Potential outliers:\n",
      "[[212 102]\n",
      " [212 115]\n",
      " [188 120]\n",
      " [165  91]\n",
      " [185 218]\n",
      " [211 114]\n",
      " [211 115]\n",
      " [198 123]\n",
      " [192 125]\n",
      " [189 120]\n",
      " [195  65]\n",
      " [190 120]\n",
      " [175 108]\n",
      " [180 125]\n",
      " [155  71]\n",
      " [184 116]\n",
      " [211 114]\n",
      " [140  62]\n",
      " [174 118]\n",
      " [204 142]\n",
      " [180 120]\n",
      " [166 105]\n",
      " [208 160]\n",
      " [175 105]\n",
      " [198 130]\n",
      " [197 129]\n",
      " [183 145]\n",
      " [194 140]\n",
      " [190 120]\n",
      " [194 135]\n",
      " [165 103]\n",
      " [183 115]\n",
      " [136  30]\n",
      " [141  34]\n",
      " [153  68]\n",
      " [152  65]\n",
      " [186 160]\n",
      " [165  89]\n",
      " [192 130]\n",
      " [186 120]\n",
      " [219 110]]\n"
     ]
    }
   ],
   "source": [
    "import numpy as np\n",
    "\n",
    "players = pd.read_csv(\"./Soccer_players_data1.csv\")\n",
    "# Define the dataset\n",
    "height = players[\"Height(cm)\"]\n",
    "weight = players[\"Weight(kg)\"]\n",
    "\n",
    "# Calculate the mean of height and weight\n",
    "mean_height = np.mean(height)\n",
    "mean_weight = np.mean(weight)\n",
    "\n",
    "# Calculate the covariance matrix of height and weight\n",
    "covariance = np.cov(np.vstack((height, weight)), rowvar=True)\n",
    "\n",
    "# Compute the Mahalanobis Distance for each data point\n",
    "data = np.vstack((height, weight)).T\n",
    "mean = np.array([mean_height, mean_weight])\n",
    "inverse_covariance = np.linalg.inv(covariance)\n",
    "mahalanobis_distance = np.sqrt(np.sum(np.dot((data - mean), inverse_covariance) * (data - mean), axis=1))\n",
    "\n",
    "\n",
    "# Set a threshold for Mahalanobis Distance\n",
    "threshold = 3\n",
    "\n",
    "# Identify potential outliers\n",
    "outliers = data[mahalanobis_distance > threshold]\n",
    "\n",
    "# Print potential outliers\n",
    "print(\"Potential outliers:\")\n",
    "print(outliers)\n"
   ]
  },
  {
   "cell_type": "code",
   "execution_count": 232,
   "id": "e4ede5f0",
   "metadata": {},
   "outputs": [],
   "source": [
    "players = pd.read_csv(\"./Soccer_players_data1.csv\")"
   ]
  },
  {
   "cell_type": "code",
   "execution_count": 233,
   "id": "a59a84a4",
   "metadata": {},
   "outputs": [
    {
     "data": {
      "text/plain": [
       "Index(['Second name', 'First name', 'Gender', 'Height(cm)', 'Weight(kg)',\n",
       "       'Country/Team'],\n",
       "      dtype='object')"
      ]
     },
     "execution_count": 233,
     "metadata": {},
     "output_type": "execute_result"
    }
   ],
   "source": [
    "players.columns"
   ]
  },
  {
   "cell_type": "code",
   "execution_count": null,
   "id": "4052b60a",
   "metadata": {},
   "outputs": [],
   "source": []
  }
 ],
 "metadata": {
  "kernelspec": {
   "display_name": "Python 3 (ipykernel)",
   "language": "python",
   "name": "python3"
  },
  "language_info": {
   "codemirror_mode": {
    "name": "ipython",
    "version": 3
   },
   "file_extension": ".py",
   "mimetype": "text/x-python",
   "name": "python",
   "nbconvert_exporter": "python",
   "pygments_lexer": "ipython3",
   "version": "3.11.2"
  }
 },
 "nbformat": 4,
 "nbformat_minor": 5
}
