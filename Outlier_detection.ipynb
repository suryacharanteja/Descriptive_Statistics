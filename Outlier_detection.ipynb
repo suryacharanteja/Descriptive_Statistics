{
 "cells": [
  {
   "cell_type": "markdown",
   "id": "0e5a2f7c",
   "metadata": {},
   "source": [
    "# z - score method"
   ]
  },
  {
   "cell_type": "markdown",
   "id": "2adea981",
   "metadata": {},
   "source": [
    "### higher z-score indicates a data point that is further away from the mean and is potenitally more likely to be an outlier"
   ]
  },
  {
   "cell_type": "markdown",
   "id": "661d6109",
   "metadata": {},
   "source": [
    "## Data points with z-scores beyond the thresold value are considered outliers"
   ]
  },
  {
   "cell_type": "markdown",
   "id": "54066e18",
   "metadata": {},
   "source": [
    "##### common thresold values \n",
    "+ or - 2\n",
    "+ or - 3"
   ]
  },
  {
   "cell_type": "code",
   "execution_count": 1,
   "id": "fdb5eb41",
   "metadata": {},
   "outputs": [],
   "source": [
    "import pandas as pd"
   ]
  },
  {
   "cell_type": "code",
   "execution_count": 2,
   "id": "a4ad28c0",
   "metadata": {},
   "outputs": [],
   "source": [
    "from scipy.stats import zscore"
   ]
  },
  {
   "cell_type": "code",
   "execution_count": 3,
   "id": "54111ed3",
   "metadata": {},
   "outputs": [],
   "source": [
    "import numpy as np"
   ]
  },
  {
   "cell_type": "code",
   "execution_count": 4,
   "id": "6a8e41ad",
   "metadata": {},
   "outputs": [],
   "source": [
    "# generate a data set or random dataset\n",
    "data = np.random.normal(loc=0, scale=1, size=100)"
   ]
  },
  {
   "cell_type": "code",
   "execution_count": 5,
   "id": "5739be1a",
   "metadata": {},
   "outputs": [
    {
     "data": {
      "text/plain": [
       "array([-1.99038210e-01,  1.66545355e+00, -6.70290504e-01,  1.46539072e+00,\n",
       "        5.15614643e-02, -9.11332483e-01, -1.57888234e-01,  1.96989069e+00,\n",
       "       -4.40135509e-02,  6.31954584e-01, -3.63162296e-02,  9.96118435e-01,\n",
       "       -1.04005748e-02, -9.73786960e-01, -2.48250344e-01,  5.69707461e-02,\n",
       "        2.13532557e+00, -3.78776255e-01,  2.49369542e+00,  2.66081650e-01,\n",
       "        2.57386996e+00,  7.85156772e-01, -2.36034657e-01, -3.91565651e-01,\n",
       "        1.50138349e+00, -1.81529970e-01,  1.50980807e+00,  4.84182029e-03,\n",
       "        1.15433149e-01, -8.85097564e-01, -4.05497693e-01,  5.77108838e-01,\n",
       "        7.90446722e-01, -1.38481067e+00, -1.44815407e+00,  8.08409132e-01,\n",
       "       -1.32216629e+00, -3.51226365e-01, -8.83646093e-01, -2.26805479e-01,\n",
       "       -4.60404891e-01,  1.76391882e+00,  1.43429114e+00, -2.44874398e+00,\n",
       "       -1.02724176e+00,  1.61179177e-01, -9.61600650e-01, -4.94537965e-01,\n",
       "       -8.68949678e-01, -9.02535423e-01,  1.66919874e-01, -5.39057638e-01,\n",
       "       -8.18470544e-02, -4.67103286e-01,  1.98961262e-01, -2.59648541e+00,\n",
       "       -2.03818374e-01, -6.60613372e-01, -5.10810172e-01,  1.10693889e+00,\n",
       "       -1.77891143e-01, -6.80612928e-01, -4.57674873e-01, -5.22920168e-01,\n",
       "       -7.14819432e-01, -5.29701469e-01,  5.15293242e-01, -1.02329933e+00,\n",
       "       -8.73589114e-01, -7.92094714e-01, -1.41624165e-01, -2.19729956e-01,\n",
       "       -1.68472911e+00,  3.62596191e-04, -1.06447526e+00, -5.80634887e-01,\n",
       "        6.37184594e-01, -4.51521401e-01, -9.17777242e-02,  2.24031670e-01,\n",
       "        2.22278324e-01, -6.33947418e-01, -1.08309157e+00, -4.05709994e-01,\n",
       "        8.55053522e-01,  1.75608725e+00, -5.91855830e-01, -8.62785396e-01,\n",
       "       -5.39821086e-01, -1.86776276e+00,  1.29944138e+00,  4.78028551e-01,\n",
       "        1.18489452e+00, -3.96321388e-01,  8.95788786e-01, -1.52606173e+00,\n",
       "       -1.22719308e+00, -1.31177650e-01,  2.80883460e-01, -5.29220806e-01])"
      ]
     },
     "execution_count": 5,
     "metadata": {},
     "output_type": "execute_result"
    }
   ],
   "source": [
    "data"
   ]
  },
  {
   "cell_type": "code",
   "execution_count": 6,
   "id": "1a7049e2",
   "metadata": {},
   "outputs": [],
   "source": [
    "# calculate z-scores\n",
    "z_scores = zscore(data)"
   ]
  },
  {
   "cell_type": "code",
   "execution_count": 7,
   "id": "9bab88ce",
   "metadata": {},
   "outputs": [
    {
     "data": {
      "text/plain": [
       "array([-0.10273775,  1.79161336, -0.58153703,  1.58834658,  0.15187521,\n",
       "       -0.82643924, -0.06092877,  2.10092598,  0.05476958,  0.74156317,\n",
       "        0.06259018,  1.11155902,  0.08892086, -0.8898939 , -0.15273801,\n",
       "        0.15737112,  2.26901026, -0.28535426,  2.63311932,  0.36983088,\n",
       "        2.71457783,  0.89721886, -0.14032669, -0.29834847,  1.62491576,\n",
       "       -0.08494912,  1.63347526,  0.10440736,  0.21676978, -0.79978417,\n",
       "       -0.31250363,  0.68583909,  0.90259352, -1.30750006, -1.37185788,\n",
       "        0.9208436 , -1.24385244, -0.25736316, -0.79830946, -0.13094971,\n",
       "       -0.36829016,  1.89165552,  1.55674894, -2.38847198, -0.94420477,\n",
       "        0.26324842, -0.87751243, -0.40296986, -0.78337768, -0.81750129,\n",
       "        0.26908105, -0.44820251,  0.01633019, -0.37509582,  0.30163558,\n",
       "       -2.53857945, -0.10759447, -0.57170492, -0.41950266,  1.22415423,\n",
       "       -0.08125202, -0.59202477, -0.36551642, -0.4318066 , -0.62677908,\n",
       "       -0.4386965 ,  0.62303353, -0.9401992 , -0.78809142, -0.7052919 ,\n",
       "       -0.04440424, -0.12376087, -1.61222162,  0.0998564 , -0.98203456,\n",
       "       -0.4904456 ,  0.74687694, -0.3592644 ,  0.00624048,  0.32710748,\n",
       "        0.32532606, -0.54461192, -1.000949  , -0.31271933,  0.96823498,\n",
       "        1.88369854, -0.50184625, -0.77711468, -0.44897818, -1.7981865 ,\n",
       "        1.41973959,  0.58517206,  1.3033583 , -0.30318037,  1.00962261,\n",
       "       -1.45101321, -1.14735826, -0.03379043,  0.38486974, -0.43820814])"
      ]
     },
     "execution_count": 7,
     "metadata": {},
     "output_type": "execute_result"
    }
   ],
   "source": [
    "z_scores"
   ]
  },
  {
   "cell_type": "code",
   "execution_count": 8,
   "id": "3600c75b",
   "metadata": {},
   "outputs": [],
   "source": [
    "# set a thresold for identifying outliers\n",
    "thresold = 2"
   ]
  },
  {
   "cell_type": "code",
   "execution_count": 9,
   "id": "f9c1dc03",
   "metadata": {},
   "outputs": [],
   "source": [
    "# identify outliers\n",
    "outliers = data[np.abs(z_scores) > thresold]"
   ]
  },
  {
   "cell_type": "code",
   "execution_count": 10,
   "id": "6e72d933",
   "metadata": {},
   "outputs": [
    {
     "data": {
      "text/plain": [
       "array([ 1.96989069,  2.13532557,  2.49369542,  2.57386996, -2.44874398,\n",
       "       -2.59648541])"
      ]
     },
     "execution_count": 10,
     "metadata": {},
     "output_type": "execute_result"
    }
   ],
   "source": [
    "outliers"
   ]
  },
  {
   "cell_type": "markdown",
   "id": "f410945b",
   "metadata": {},
   "source": [
    "# IQR method"
   ]
  },
  {
   "cell_type": "markdown",
   "id": "e3c2717e",
   "metadata": {},
   "source": [
    "##### data points that fall outside of this IQR range are considered potential outliers"
   ]
  },
  {
   "cell_type": "code",
   "execution_count": null,
   "id": "a86ec7f1",
   "metadata": {},
   "outputs": [],
   "source": [
    "thresold  = multiple of IQR\n",
    "thresold = 1.5 or 3 times of the IQR"
   ]
  },
  {
   "cell_type": "markdown",
   "id": "d678d538",
   "metadata": {},
   "source": [
    "## any point that falls above or below of this thresold are considered as outliers"
   ]
  },
  {
   "cell_type": "code",
   "execution_count": 11,
   "id": "61dddc2e",
   "metadata": {},
   "outputs": [],
   "source": [
    "import numpy as np"
   ]
  },
  {
   "cell_type": "code",
   "execution_count": 12,
   "id": "4e9f2545",
   "metadata": {},
   "outputs": [],
   "source": [
    "data = np.random.normal(loc=0, scale=1, size=100)"
   ]
  },
  {
   "cell_type": "code",
   "execution_count": 13,
   "id": "f3049ddc",
   "metadata": {},
   "outputs": [
    {
     "data": {
      "text/plain": [
       "array([ 5.28414187e-01,  5.38521342e-01,  7.47337827e-01,  1.89282650e-01,\n",
       "        1.05567519e-01,  2.35061999e+00,  3.04917204e-01, -9.30354223e-01,\n",
       "       -1.63853929e+00, -1.65677020e+00,  2.05207477e-02,  5.40775375e-01,\n",
       "       -9.05308449e-01,  7.33945465e-01, -2.36169054e-01, -1.56043449e+00,\n",
       "        1.05495829e+00,  6.21372791e-02, -2.95436037e-01,  5.80631178e-01,\n",
       "       -1.76395532e+00,  9.91784769e-01, -1.13473609e+00, -8.65564329e-01,\n",
       "       -7.44464549e-01,  4.82542492e-01, -3.44237052e-02, -5.77672491e-01,\n",
       "       -8.64506396e-01,  9.65822017e-01,  8.47522506e-01,  1.52040302e+00,\n",
       "        1.76361701e-01,  9.85107918e-01,  1.24340057e+00, -7.97267950e-01,\n",
       "       -1.58013606e+00, -5.26637740e-01, -1.10505558e+00, -6.80983493e-01,\n",
       "        4.35250714e-01, -3.99506901e-01, -4.16070284e-01, -8.04724523e-01,\n",
       "        1.08082628e-01, -9.37412334e-01,  1.82781372e+00,  1.29341884e+00,\n",
       "       -2.42446666e-01,  1.93257137e+00, -3.27082408e-01,  3.76040129e-01,\n",
       "       -1.47959305e+00,  1.59769290e-01,  8.95114623e-01, -1.30396973e+00,\n",
       "        5.48262933e-01,  2.75620270e-01,  1.71764226e+00,  8.16419251e-01,\n",
       "       -1.41727425e+00,  7.35730352e-01,  1.43472193e-01, -5.01667395e-03,\n",
       "        1.03409555e+00, -1.48177420e+00, -2.66598721e-01, -1.35219184e-01,\n",
       "        1.42982280e+00, -1.56131658e-02,  7.46015540e-01,  6.24773960e-01,\n",
       "       -4.11212003e-01,  1.18762272e+00,  4.27784046e-02,  4.24671034e-01,\n",
       "       -2.64341683e+00, -4.70132325e-02,  3.09769093e+00,  1.17079830e-03,\n",
       "        8.53911463e-02,  5.69977047e-01,  8.37430894e-01,  3.88522428e-01,\n",
       "        4.00094215e-02, -1.47439623e-01, -6.55910024e-01, -2.80124931e-01,\n",
       "       -9.45090059e-01, -6.01465078e-01, -8.16139064e-01, -1.10639406e-01,\n",
       "       -2.51407873e-01, -6.89984475e-01,  5.07900345e-01, -9.78991976e-01,\n",
       "       -1.95961301e+00, -7.41722915e-01, -2.37848698e+00,  2.48493633e-01])"
      ]
     },
     "execution_count": 13,
     "metadata": {},
     "output_type": "execute_result"
    }
   ],
   "source": [
    "data"
   ]
  },
  {
   "cell_type": "code",
   "execution_count": 14,
   "id": "d174a62f",
   "metadata": {},
   "outputs": [],
   "source": [
    "# calculate the 25th percentile (Q1)\n",
    "Q1 = np.percentile(data, 25)"
   ]
  },
  {
   "cell_type": "code",
   "execution_count": 15,
   "id": "e0119e2a",
   "metadata": {},
   "outputs": [
    {
     "data": {
      "text/plain": [
       "-0.7424083237462756"
      ]
     },
     "execution_count": 15,
     "metadata": {},
     "output_type": "execute_result"
    }
   ],
   "source": [
    "Q1"
   ]
  },
  {
   "cell_type": "code",
   "execution_count": 16,
   "id": "ab8eac04",
   "metadata": {},
   "outputs": [],
   "source": [
    "# calculate the 75th percentile (Q3)\n",
    "Q3 = np.percentile(data, 75)"
   ]
  },
  {
   "cell_type": "code",
   "execution_count": 17,
   "id": "4bf7f5fa",
   "metadata": {},
   "outputs": [
    {
     "data": {
      "text/plain": [
       "0.5726405796241362"
      ]
     },
     "execution_count": 17,
     "metadata": {},
     "output_type": "execute_result"
    }
   ],
   "source": [
    "Q3"
   ]
  },
  {
   "cell_type": "code",
   "execution_count": 18,
   "id": "4bab5234",
   "metadata": {},
   "outputs": [],
   "source": [
    "# calculate the IQR\n",
    "IQR = Q3 - Q1"
   ]
  },
  {
   "cell_type": "code",
   "execution_count": 19,
   "id": "03e773fb",
   "metadata": {},
   "outputs": [
    {
     "data": {
      "text/plain": [
       "1.3150489033704118"
      ]
     },
     "execution_count": 19,
     "metadata": {},
     "output_type": "execute_result"
    }
   ],
   "source": [
    "IQR"
   ]
  },
  {
   "cell_type": "code",
   "execution_count": 20,
   "id": "a6ac54e9",
   "metadata": {},
   "outputs": [],
   "source": [
    "# set a thresold for identifying outliers\n",
    "thresold = 1.5 * IQR"
   ]
  },
  {
   "cell_type": "code",
   "execution_count": 21,
   "id": "e220ec49",
   "metadata": {},
   "outputs": [
    {
     "data": {
      "text/plain": [
       "1.9725733550556177"
      ]
     },
     "execution_count": 21,
     "metadata": {},
     "output_type": "execute_result"
    }
   ],
   "source": [
    "thresold"
   ]
  },
  {
   "cell_type": "code",
   "execution_count": 26,
   "id": "f8c89ba3",
   "metadata": {},
   "outputs": [],
   "source": [
    "# Identify outliers\n",
    "outliers = data[(data < (Q1 - thresold)) | (data > (Q3 + thresold))]"
   ]
  },
  {
   "cell_type": "code",
   "execution_count": 27,
   "id": "d5516b5b",
   "metadata": {},
   "outputs": [
    {
     "data": {
      "text/plain": [
       "array([3.09769093])"
      ]
     },
     "execution_count": 27,
     "metadata": {},
     "output_type": "execute_result"
    }
   ],
   "source": [
    "outliers"
   ]
  },
  {
   "cell_type": "markdown",
   "id": "72c15c14",
   "metadata": {},
   "source": [
    "# Box-plot"
   ]
  },
  {
   "cell_type": "code",
   "execution_count": 28,
   "id": "42dd1ca5",
   "metadata": {},
   "outputs": [],
   "source": [
    "import matplotlib.pyplot as plt"
   ]
  },
  {
   "cell_type": "code",
   "execution_count": 35,
   "id": "2f8b19aa",
   "metadata": {},
   "outputs": [],
   "source": [
    "# generate a random dataset\n",
    "data = [-334, 10, 15, 20, 25, 30, 35, 40, 45, 50, 55, 60, 70, 80, 90, 100, 200, 300, 400, 500]"
   ]
  },
  {
   "cell_type": "code",
   "execution_count": 33,
   "id": "4a21eca4",
   "metadata": {},
   "outputs": [
    {
     "data": {
      "text/plain": [
       "[-33434,\n",
       " 10,\n",
       " 15,\n",
       " 20,\n",
       " 25,\n",
       " 30,\n",
       " 35,\n",
       " 40,\n",
       " 45,\n",
       " 50,\n",
       " 55,\n",
       " 60,\n",
       " 70,\n",
       " 80,\n",
       " 90,\n",
       " 100,\n",
       " 200,\n",
       " 300,\n",
       " 400,\n",
       " 500]"
      ]
     },
     "execution_count": 33,
     "metadata": {},
     "output_type": "execute_result"
    }
   ],
   "source": [
    "data"
   ]
  },
  {
   "cell_type": "code",
   "execution_count": 37,
   "id": "54d6e7ab",
   "metadata": {},
   "outputs": [
    {
     "data": {
      "image/png": "[encoded data removed]",
      "text/plain": [
       "<Figure size 640x480 with 1 Axes>"
      ]
     },
     "metadata": {},
     "output_type": "display_data"
    }
   ],
   "source": [
    "# create a box plot for this data\n",
    "plt.boxplot(data)\n",
    "\n",
    "plt.xlabel('Dataset')\n",
    "plt.ylabel('Values')\n",
    "plt.title('Box Whisker plot to detect outliers')\n",
    "\n",
    "plt.show()"
   ]
  },
  {
   "cell_type": "code",
   "execution_count": 38,
   "id": "f8b07dbb",
   "metadata": {},
   "outputs": [],
   "source": [
    "# create a sample dataset\n",
    "np.random.seed(0)"
   ]
  },
  {
   "cell_type": "code",
   "execution_count": 40,
   "id": "26d80cc6",
   "metadata": {},
   "outputs": [],
   "source": [
    "data1 = np.random.normal(loc=0, scale=1, size=(100,))"
   ]
  },
  {
   "cell_type": "code",
   "execution_count": 41,
   "id": "813713c1",
   "metadata": {},
   "outputs": [
    {
     "data": {
      "text/plain": [
       "array([ 1.76405235,  0.40015721,  0.97873798,  2.2408932 ,  1.86755799,\n",
       "       -0.97727788,  0.95008842, -0.15135721, -0.10321885,  0.4105985 ,\n",
       "        0.14404357,  1.45427351,  0.76103773,  0.12167502,  0.44386323,\n",
       "        0.33367433,  1.49407907, -0.20515826,  0.3130677 , -0.85409574,\n",
       "       -2.55298982,  0.6536186 ,  0.8644362 , -0.74216502,  2.26975462,\n",
       "       -1.45436567,  0.04575852, -0.18718385,  1.53277921,  1.46935877,\n",
       "        0.15494743,  0.37816252, -0.88778575, -1.98079647, -0.34791215,\n",
       "        0.15634897,  1.23029068,  1.20237985, -0.38732682, -0.30230275,\n",
       "       -1.04855297, -1.42001794, -1.70627019,  1.9507754 , -0.50965218,\n",
       "       -0.4380743 , -1.25279536,  0.77749036, -1.61389785, -0.21274028,\n",
       "       -0.89546656,  0.3869025 , -0.51080514, -1.18063218, -0.02818223,\n",
       "        0.42833187,  0.06651722,  0.3024719 , -0.63432209, -0.36274117,\n",
       "       -0.67246045, -0.35955316, -0.81314628, -1.7262826 ,  0.17742614,\n",
       "       -0.40178094, -1.63019835,  0.46278226, -0.90729836,  0.0519454 ,\n",
       "        0.72909056,  0.12898291,  1.13940068, -1.23482582,  0.40234164,\n",
       "       -0.68481009, -0.87079715, -0.57884966, -0.31155253,  0.05616534,\n",
       "       -1.16514984,  0.90082649,  0.46566244, -1.53624369,  1.48825219,\n",
       "        1.89588918,  1.17877957, -0.17992484, -1.07075262,  1.05445173,\n",
       "       -0.40317695,  1.22244507,  0.20827498,  0.97663904,  0.3563664 ,\n",
       "        0.70657317,  0.01050002,  1.78587049,  0.12691209,  0.40198936])"
      ]
     },
     "execution_count": 41,
     "metadata": {},
     "output_type": "execute_result"
    }
   ],
   "source": [
    "data1"
   ]
  },
  {
   "cell_type": "code",
   "execution_count": 43,
   "id": "b161344e",
   "metadata": {},
   "outputs": [
    {
     "data": {
      "text/plain": [
       "{'whiskers': [<matplotlib.lines.Line2D at 0x1b2096d5750>,\n",
       "  <matplotlib.lines.Line2D at 0x1b2096d6110>],\n",
       " 'caps': [<matplotlib.lines.Line2D at 0x1b2096d69d0>,\n",
       "  <matplotlib.lines.Line2D at 0x1b2096d71d0>],\n",
       " 'boxes': [<matplotlib.lines.Line2D at 0x1b2075c1a90>],\n",
       " 'medians': [<matplotlib.lines.Line2D at 0x1b2096d7a10>],\n",
       " 'fliers': [<matplotlib.lines.Line2D at 0x1b2096e4290>],\n",
       " 'means': []}"
      ]
     },
     "execution_count": 43,
     "metadata": {},
     "output_type": "execute_result"
    },
    {
     "data": {
      "image/png": "[encoded data removed]",
      "text/plain": [
       "<Figure size 640x480 with 1 Axes>"
      ]
     },
     "metadata": {},
     "output_type": "display_data"
    }
   ],
   "source": [
    "# create a box plot\n",
    "plt.boxplot(data1)"
   ]
  },
  {
   "cell_type": "code",
   "execution_count": 44,
   "id": "4f96747e",
   "metadata": {},
   "outputs": [],
   "source": [
    "players = pd.read_csv(\"./Soccer_players_data1.csv\")"
   ]
  },
  {
   "cell_type": "code",
   "execution_count": 45,
   "id": "8b3b1b23",
   "metadata": {},
   "outputs": [
    {
     "data": {
      "text/plain": [
       "Index(['Second name', 'First name', 'Gender', 'Height(cm)', 'Weight(kg)',\n",
       "       'Country/Team'],\n",
       "      dtype='object')"
      ]
     },
     "execution_count": 45,
     "metadata": {},
     "output_type": "execute_result"
    }
   ],
   "source": [
    "players.columns"
   ]
  },
  {
   "cell_type": "code",
   "execution_count": 46,
   "id": "1a3e7d51",
   "metadata": {},
   "outputs": [
    {
     "data": {
      "text/plain": [
       "{'whiskers': [<matplotlib.lines.Line2D at 0x1b20985bd10>,\n",
       "  <matplotlib.lines.Line2D at 0x1b209858810>],\n",
       " 'caps': [<matplotlib.lines.Line2D at 0x1b209859c50>,\n",
       "  <matplotlib.lines.Line2D at 0x1b20984c8d0>],\n",
       " 'boxes': [<matplotlib.lines.Line2D at 0x1b2099ed650>],\n",
       " 'medians': [<matplotlib.lines.Line2D at 0x1b20984e8d0>],\n",
       " 'fliers': [<matplotlib.lines.Line2D at 0x1b20984fdd0>],\n",
       " 'means': []}"
      ]
     },
     "execution_count": 46,
     "metadata": {},
     "output_type": "execute_result"
    },
    {
     "data": {
      "image/png": "[encoded data removed]",
      "text/plain": [
       "<Figure size 640x480 with 1 Axes>"
      ]
     },
     "metadata": {},
     "output_type": "display_data"
    }
   ],
   "source": [
    "plt.boxplot(players[\"Height(cm)\"])"
   ]
  },
  {
   "cell_type": "code",
   "execution_count": 47,
   "id": "d4672321",
   "metadata": {},
   "outputs": [
    {
     "data": {
      "text/plain": [
       "{'whiskers': [<matplotlib.lines.Line2D at 0x1b2098a4bd0>,\n",
       "  <matplotlib.lines.Line2D at 0x1b2098a6810>],\n",
       " 'caps': [<matplotlib.lines.Line2D at 0x1b2098a6d90>,\n",
       "  <matplotlib.lines.Line2D at 0x1b205625790>],\n",
       " 'boxes': [<matplotlib.lines.Line2D at 0x1b2098a61d0>],\n",
       " 'medians': [<matplotlib.lines.Line2D at 0x1b20b915b10>],\n",
       " 'fliers': [<matplotlib.lines.Line2D at 0x1b209808450>],\n",
       " 'means': []}"
      ]
     },
     "execution_count": 47,
     "metadata": {},
     "output_type": "execute_result"
    },
    {
     "data": {
      "image/png": "[encoded data removed]",
      "text/plain": [
       "<Figure size 640x480 with 1 Axes>"
      ]
     },
     "metadata": {},
     "output_type": "display_data"
    }
   ],
   "source": [
    "plt.boxplot(players[\"Weight(kg)\"])"
   ]
  },
  {
   "cell_type": "code",
   "execution_count": 48,
   "id": "186b9f52",
   "metadata": {},
   "outputs": [],
   "source": [
    "customers = pd.read_csv(\"./customer_shopping_data.csv\")"
   ]
  },
  {
   "cell_type": "code",
   "execution_count": 49,
   "id": "e5a63342",
   "metadata": {
    "scrolled": true
   },
   "outputs": [
    {
     "data": {
      "text/html": [
       "<div>\n",
       "<style scoped>\n",
       "    .dataframe tbody tr th:only-of-type {\n",
       "        vertical-align: middle;\n",
       "    }\n",
       "\n",
       "    .dataframe tbody tr th {\n",
       "        vertical-align: top;\n",
       "    }\n",
       "\n",
       "    .dataframe thead th {\n",
       "        text-align: right;\n",
       "    }\n",
       "</style>\n",
       "<table border=\"1\" class=\"dataframe\">\n",
       "  <thead>\n",
       "    <tr style=\"text-align: right;\">\n",
       "      <th></th>\n",
       "      <th>invoice_no</th>\n",
       "      <th>customer_id</th>\n",
       "      <th>gender</th>\n",
       "      <th>age</th>\n",
       "      <th>category</th>\n",
       "      <th>quantity</th>\n",
       "      <th>price</th>\n",
       "      <th>payment_method</th>\n",
       "      <th>invoice_date</th>\n",
       "      <th>shopping_mall</th>\n",
       "    </tr>\n",
       "  </thead>\n",
       "  <tbody>\n",
       "    <tr>\n",
       "      <th>0</th>\n",
       "      <td>I138884</td>\n",
       "      <td>C241288</td>\n",
       "      <td>Female</td>\n",
       "      <td>28</td>\n",
       "      <td>Clothing</td>\n",
       "      <td>5</td>\n",
       "      <td>1500.40</td>\n",
       "      <td>Credit Card</td>\n",
       "      <td>05-08-2022</td>\n",
       "      <td>Kanyon</td>\n",
       "    </tr>\n",
       "    <tr>\n",
       "      <th>1</th>\n",
       "      <td>I317333</td>\n",
       "      <td>C111565</td>\n",
       "      <td>Male</td>\n",
       "      <td>21</td>\n",
       "      <td>Shoes</td>\n",
       "      <td>3</td>\n",
       "      <td>1800.51</td>\n",
       "      <td>Debit Card</td>\n",
       "      <td>12-12-2021</td>\n",
       "      <td>Forum Istanbul</td>\n",
       "    </tr>\n",
       "    <tr>\n",
       "      <th>2</th>\n",
       "      <td>I127801</td>\n",
       "      <td>C266599</td>\n",
       "      <td>Male</td>\n",
       "      <td>20</td>\n",
       "      <td>Clothing</td>\n",
       "      <td>1</td>\n",
       "      <td>300.08</td>\n",
       "      <td>Cash</td>\n",
       "      <td>09-11-2021</td>\n",
       "      <td>Metrocity</td>\n",
       "    </tr>\n",
       "    <tr>\n",
       "      <th>3</th>\n",
       "      <td>I173702</td>\n",
       "      <td>C988172</td>\n",
       "      <td>Female</td>\n",
       "      <td>66</td>\n",
       "      <td>Shoes</td>\n",
       "      <td>5</td>\n",
       "      <td>3000.85</td>\n",
       "      <td>Credit Card</td>\n",
       "      <td>16-05-2021</td>\n",
       "      <td>Metropol AVM</td>\n",
       "    </tr>\n",
       "    <tr>\n",
       "      <th>4</th>\n",
       "      <td>I337046</td>\n",
       "      <td>C189076</td>\n",
       "      <td>Female</td>\n",
       "      <td>53</td>\n",
       "      <td>Books</td>\n",
       "      <td>4</td>\n",
       "      <td>60.60</td>\n",
       "      <td>Cash</td>\n",
       "      <td>24-10-2021</td>\n",
       "      <td>Kanyon</td>\n",
       "    </tr>\n",
       "    <tr>\n",
       "      <th>...</th>\n",
       "      <td>...</td>\n",
       "      <td>...</td>\n",
       "      <td>...</td>\n",
       "      <td>...</td>\n",
       "      <td>...</td>\n",
       "      <td>...</td>\n",
       "      <td>...</td>\n",
       "      <td>...</td>\n",
       "      <td>...</td>\n",
       "      <td>...</td>\n",
       "    </tr>\n",
       "    <tr>\n",
       "      <th>99452</th>\n",
       "      <td>I219422</td>\n",
       "      <td>C441542</td>\n",
       "      <td>Female</td>\n",
       "      <td>45</td>\n",
       "      <td>Souvenir</td>\n",
       "      <td>5</td>\n",
       "      <td>58.65</td>\n",
       "      <td>Credit Card</td>\n",
       "      <td>21-09-2022</td>\n",
       "      <td>Kanyon</td>\n",
       "    </tr>\n",
       "    <tr>\n",
       "      <th>99453</th>\n",
       "      <td>I325143</td>\n",
       "      <td>C569580</td>\n",
       "      <td>Male</td>\n",
       "      <td>27</td>\n",
       "      <td>Food &amp; Beverage</td>\n",
       "      <td>2</td>\n",
       "      <td>10.46</td>\n",
       "      <td>Cash</td>\n",
       "      <td>22-09-2021</td>\n",
       "      <td>Forum Istanbul</td>\n",
       "    </tr>\n",
       "    <tr>\n",
       "      <th>99454</th>\n",
       "      <td>I824010</td>\n",
       "      <td>C103292</td>\n",
       "      <td>Male</td>\n",
       "      <td>63</td>\n",
       "      <td>Food &amp; Beverage</td>\n",
       "      <td>2</td>\n",
       "      <td>10.46</td>\n",
       "      <td>Debit Card</td>\n",
       "      <td>28-03-2021</td>\n",
       "      <td>Metrocity</td>\n",
       "    </tr>\n",
       "    <tr>\n",
       "      <th>99455</th>\n",
       "      <td>I702964</td>\n",
       "      <td>C800631</td>\n",
       "      <td>Male</td>\n",
       "      <td>56</td>\n",
       "      <td>Technology</td>\n",
       "      <td>4</td>\n",
       "      <td>4200.00</td>\n",
       "      <td>Cash</td>\n",
       "      <td>16-03-2021</td>\n",
       "      <td>Istinye Park</td>\n",
       "    </tr>\n",
       "    <tr>\n",
       "      <th>99456</th>\n",
       "      <td>I232867</td>\n",
       "      <td>C273973</td>\n",
       "      <td>Female</td>\n",
       "      <td>36</td>\n",
       "      <td>Souvenir</td>\n",
       "      <td>3</td>\n",
       "      <td>35.19</td>\n",
       "      <td>Credit Card</td>\n",
       "      <td>15-10-2022</td>\n",
       "      <td>Mall of Istanbul</td>\n",
       "    </tr>\n",
       "  </tbody>\n",
       "</table>\n",
       "<p>99457 rows × 10 columns</p>\n",
       "</div>"
      ],
      "text/plain": [
       "      invoice_no customer_id  gender  age         category  quantity    price  \\\n",
       "0        I138884     C241288  Female   28         Clothing         5  1500.40   \n",
       "1        I317333     C111565    Male   21            Shoes         3  1800.51   \n",
       "2        I127801     C266599    Male   20         Clothing         1   300.08   \n",
       "3        I173702     C988172  Female   66            Shoes         5  3000.85   \n",
       "4        I337046     C189076  Female   53            Books         4    60.60   \n",
       "...          ...         ...     ...  ...              ...       ...      ...   \n",
       "99452    I219422     C441542  Female   45         Souvenir         5    58.65   \n",
       "99453    I325143     C569580    Male   27  Food & Beverage         2    10.46   \n",
       "99454    I824010     C103292    Male   63  Food & Beverage         2    10.46   \n",
       "99455    I702964     C800631    Male   56       Technology         4  4200.00   \n",
       "99456    I232867     C273973  Female   36         Souvenir         3    35.19   \n",
       "\n",
       "      payment_method invoice_date     shopping_mall  \n",
       "0        Credit Card   05-08-2022            Kanyon  \n",
       "1         Debit Card   12-12-2021    Forum Istanbul  \n",
       "2               Cash   09-11-2021         Metrocity  \n",
       "3        Credit Card   16-05-2021      Metropol AVM  \n",
       "4               Cash   24-10-2021            Kanyon  \n",
       "...              ...          ...               ...  \n",
       "99452    Credit Card   21-09-2022            Kanyon  \n",
       "99453           Cash   22-09-2021    Forum Istanbul  \n",
       "99454     Debit Card   28-03-2021         Metrocity  \n",
       "99455           Cash   16-03-2021      Istinye Park  \n",
       "99456    Credit Card   15-10-2022  Mall of Istanbul  \n",
       "\n",
       "[99457 rows x 10 columns]"
      ]
     },
     "execution_count": 49,
     "metadata": {},
     "output_type": "execute_result"
    }
   ],
   "source": [
    "customers"
   ]
  },
  {
   "cell_type": "code",
   "execution_count": 50,
   "id": "e9f23953",
   "metadata": {},
   "outputs": [
    {
     "data": {
      "text/plain": [
       "{'whiskers': [<matplotlib.lines.Line2D at 0x1b209748750>,\n",
       "  <matplotlib.lines.Line2D at 0x1b209747810>],\n",
       " 'caps': [<matplotlib.lines.Line2D at 0x1b209744410>,\n",
       "  <matplotlib.lines.Line2D at 0x1b209746c50>],\n",
       " 'boxes': [<matplotlib.lines.Line2D at 0x1b20974b8d0>],\n",
       " 'medians': [<matplotlib.lines.Line2D at 0x1b209740cd0>],\n",
       " 'fliers': [<matplotlib.lines.Line2D at 0x1b209741790>],\n",
       " 'means': []}"
      ]
     },
     "execution_count": 50,
     "metadata": {},
     "output_type": "execute_result"
    },
    {
     "data": {
      "image/png": "[encoded data removed]",
      "text/plain": [
       "<Figure size 640x480 with 1 Axes>"
      ]
     },
     "metadata": {},
     "output_type": "display_data"
    }
   ],
   "source": [
    "plt.boxplot(customers[\"age\"])"
   ]
  },
  {
   "cell_type": "code",
   "execution_count": 51,
   "id": "385251bb",
   "metadata": {},
   "outputs": [
    {
     "data": {
      "text/plain": [
       "{'whiskers': [<matplotlib.lines.Line2D at 0x1b20cf00310>,\n",
       "  <matplotlib.lines.Line2D at 0x1b20cf00d50>],\n",
       " 'caps': [<matplotlib.lines.Line2D at 0x1b20cf015d0>,\n",
       "  <matplotlib.lines.Line2D at 0x1b20cf01dd0>],\n",
       " 'boxes': [<matplotlib.lines.Line2D at 0x1b20cec3710>],\n",
       " 'medians': [<matplotlib.lines.Line2D at 0x1b20cf02590>],\n",
       " 'fliers': [<matplotlib.lines.Line2D at 0x1b2097899d0>],\n",
       " 'means': []}"
      ]
     },
     "execution_count": 51,
     "metadata": {},
     "output_type": "execute_result"
    },
    {
     "data": {
      "image/png": "[encoded data removed]",
      "text/plain": [
       "<Figure size 640x480 with 1 Axes>"
      ]
     },
     "metadata": {},
     "output_type": "display_data"
    }
   ],
   "source": [
    "plt.boxplot(customers[\"price\"])"
   ]
  },
  {
   "cell_type": "markdown",
   "id": "04595b13",
   "metadata": {},
   "source": [
    "# mahalanobis distance "
   ]
  },
  {
   "cell_type": "code",
   "execution_count": 52,
   "id": "ce8f63c3",
   "metadata": {},
   "outputs": [
    {
     "data": {
      "text/html": [
       "<div>\n",
       "<style scoped>\n",
       "    .dataframe tbody tr th:only-of-type {\n",
       "        vertical-align: middle;\n",
       "    }\n",
       "\n",
       "    .dataframe tbody tr th {\n",
       "        vertical-align: top;\n",
       "    }\n",
       "\n",
       "    .dataframe thead th {\n",
       "        text-align: right;\n",
       "    }\n",
       "</style>\n",
       "<table border=\"1\" class=\"dataframe\">\n",
       "  <thead>\n",
       "    <tr style=\"text-align: right;\">\n",
       "      <th></th>\n",
       "      <th>Second name</th>\n",
       "      <th>First name</th>\n",
       "      <th>Gender</th>\n",
       "      <th>Height(cm)</th>\n",
       "      <th>Weight(kg)</th>\n",
       "      <th>Country/Team</th>\n",
       "    </tr>\n",
       "  </thead>\n",
       "  <tbody>\n",
       "    <tr>\n",
       "      <th>0</th>\n",
       "      <td>Abbadi</td>\n",
       "      <td>Ilyas</td>\n",
       "      <td>M</td>\n",
       "      <td>170</td>\n",
       "      <td>69</td>\n",
       "      <td>Algeria</td>\n",
       "    </tr>\n",
       "    <tr>\n",
       "      <th>1</th>\n",
       "      <td>Abbate</td>\n",
       "      <td>Simona</td>\n",
       "      <td>W</td>\n",
       "      <td>171</td>\n",
       "      <td>64</td>\n",
       "      <td>Italy</td>\n",
       "    </tr>\n",
       "    <tr>\n",
       "      <th>2</th>\n",
       "      <td>Abdelaal</td>\n",
       "      <td>Hesham</td>\n",
       "      <td>M</td>\n",
       "      <td>167</td>\n",
       "      <td>52</td>\n",
       "      <td>Egypt</td>\n",
       "    </tr>\n",
       "    <tr>\n",
       "      <th>3</th>\n",
       "      <td>Abdulrahman</td>\n",
       "      <td>Amer</td>\n",
       "      <td>M</td>\n",
       "      <td>168</td>\n",
       "      <td>68</td>\n",
       "      <td>United Arab Emirates</td>\n",
       "    </tr>\n",
       "    <tr>\n",
       "      <th>4</th>\n",
       "      <td>Abian</td>\n",
       "      <td>Pablo</td>\n",
       "      <td>M</td>\n",
       "      <td>177</td>\n",
       "      <td>78</td>\n",
       "      <td>Spain</td>\n",
       "    </tr>\n",
       "    <tr>\n",
       "      <th>...</th>\n",
       "      <td>...</td>\n",
       "      <td>...</td>\n",
       "      <td>...</td>\n",
       "      <td>...</td>\n",
       "      <td>...</td>\n",
       "      <td>...</td>\n",
       "    </tr>\n",
       "    <tr>\n",
       "      <th>1582</th>\n",
       "      <td>Zhou</td>\n",
       "      <td>Peng</td>\n",
       "      <td>M</td>\n",
       "      <td>183</td>\n",
       "      <td>88</td>\n",
       "      <td>China</td>\n",
       "    </tr>\n",
       "    <tr>\n",
       "      <th>1583</th>\n",
       "      <td>Zlokovic</td>\n",
       "      <td>Boris</td>\n",
       "      <td>M</td>\n",
       "      <td>197</td>\n",
       "      <td>100</td>\n",
       "      <td>Montenegro</td>\n",
       "    </tr>\n",
       "    <tr>\n",
       "      <th>1584</th>\n",
       "      <td>Zolnir</td>\n",
       "      <td>Urska</td>\n",
       "      <td>W</td>\n",
       "      <td>173</td>\n",
       "      <td>63</td>\n",
       "      <td>Slovenia</td>\n",
       "    </tr>\n",
       "    <tr>\n",
       "      <th>1585</th>\n",
       "      <td>Zoric</td>\n",
       "      <td>Milenko</td>\n",
       "      <td>M</td>\n",
       "      <td>179</td>\n",
       "      <td>73</td>\n",
       "      <td>Serbia</td>\n",
       "    </tr>\n",
       "    <tr>\n",
       "      <th>1586</th>\n",
       "      <td>Zugaj</td>\n",
       "      <td>Nenad</td>\n",
       "      <td>M</td>\n",
       "      <td>177</td>\n",
       "      <td>84</td>\n",
       "      <td>Croatia</td>\n",
       "    </tr>\n",
       "  </tbody>\n",
       "</table>\n",
       "<p>1587 rows × 6 columns</p>\n",
       "</div>"
      ],
      "text/plain": [
       "      Second name First name Gender  Height(cm)  Weight(kg)  \\\n",
       "0          Abbadi     Ilyas       M         170          69   \n",
       "1          Abbate    Simona       W         171          64   \n",
       "2        Abdelaal    Hesham       M         167          52   \n",
       "3     Abdulrahman      Amer       M         168          68   \n",
       "4           Abian     Pablo       M         177          78   \n",
       "...           ...        ...    ...         ...         ...   \n",
       "1582         Zhou      Peng       M         183          88   \n",
       "1583     Zlokovic     Boris       M         197         100   \n",
       "1584       Zolnir     Urska       W         173          63   \n",
       "1585        Zoric   Milenko       M         179          73   \n",
       "1586        Zugaj     Nenad       M         177          84   \n",
       "\n",
       "              Country/Team  \n",
       "0                  Algeria  \n",
       "1                    Italy  \n",
       "2                    Egypt  \n",
       "3     United Arab Emirates  \n",
       "4                    Spain  \n",
       "...                    ...  \n",
       "1582                 China  \n",
       "1583            Montenegro  \n",
       "1584              Slovenia  \n",
       "1585                Serbia  \n",
       "1586               Croatia  \n",
       "\n",
       "[1587 rows x 6 columns]"
      ]
     },
     "execution_count": 52,
     "metadata": {},
     "output_type": "execute_result"
    }
   ],
   "source": [
    "players"
   ]
  },
  {
   "cell_type": "markdown",
   "id": "3573aaac",
   "metadata": {},
   "source": [
    "### step1: calculate the mean and covariance of the dataset: for height and weight variables in this data set"
   ]
  },
  {
   "cell_type": "markdown",
   "id": "51bdbaad",
   "metadata": {},
   "source": [
    "### step2: compute the mahalanobis distance for each data point"
   ]
  },
  {
   "cell_type": "markdown",
   "id": "3d2c1923",
   "metadata": {},
   "source": [
    "### step3: compare the mahalanobis distance to a thresold"
   ]
  },
  {
   "cell_type": "markdown",
   "id": "7dd0726f",
   "metadata": {},
   "source": [
    "### step4: identify potenital outliers"
   ]
  },
  {
   "cell_type": "markdown",
   "id": "ace2a7bd",
   "metadata": {},
   "source": [
    "## detect the outliers from the soccer players data set"
   ]
  },
  {
   "cell_type": "markdown",
   "id": "5a4b1416",
   "metadata": {},
   "source": [
    "##### step1: Calculate the mean and covariance of the dataset"
   ]
  },
  {
   "cell_type": "code",
   "execution_count": 59,
   "id": "d45b2bd5",
   "metadata": {},
   "outputs": [],
   "source": [
    "import numpy as np\n",
    "\n",
    "height = players[\"Height(cm)\"]\n",
    "weight = players[\"Weight(kg)\"]\n",
    "\n",
    "# calculate the mean of height and weight\n",
    "mean_height = np.mean(height)\n",
    "mean_weight = np.mean(weight)\n",
    "\n",
    "# calculate the covariance matrix of height and weight\n",
    "covariance = np.cov(np.vstack((height, weight)), rowvar=True)\n",
    "\n"
   ]
  },
  {
   "cell_type": "markdown",
   "id": "90bfec2b",
   "metadata": {},
   "source": [
    "##### step2: compute the mahalanobis distance for each data point"
   ]
  },
  {
   "cell_type": "code",
   "execution_count": 68,
   "id": "f21d0bd7",
   "metadata": {},
   "outputs": [],
   "source": [
    "# compute the Mahalanobis distance for each data point\n",
    "data = np.vstack((height, weight)).T\n",
    "\n",
    "mean = np.array([mean_height, mean_weight])\n",
    "\n",
    "inverse_covariance = np.linalg.inv(covariance)\n",
    "\n",
    "mahalanobis_distance = np.sqrt(np.sum(np.dot((data - mean), inverse_covariance) * (data - mean), axis=1))"
   ]
  },
  {
   "cell_type": "markdown",
   "id": "fbc6bbfb",
   "metadata": {},
   "source": [
    "##### step3: compare the mahalanobis distance to a thresold"
   ]
  },
  {
   "cell_type": "code",
   "execution_count": 71,
   "id": "255d75b9",
   "metadata": {},
   "outputs": [
    {
     "name": "stdout",
     "output_type": "stream",
     "text": [
      "Potential outliers: \n",
      "[[212 102]\n",
      " [212 115]\n",
      " [188 120]\n",
      " [165  91]\n",
      " [185 218]\n",
      " [211 114]\n",
      " [211 115]\n",
      " [198 123]\n",
      " [192 125]\n",
      " [189 120]\n",
      " [195  65]\n",
      " [190 120]\n",
      " [175 108]\n",
      " [180 125]\n",
      " [155  71]\n",
      " [184 116]\n",
      " [211 114]\n",
      " [140  62]\n",
      " [174 118]\n",
      " [204 142]\n",
      " [180 120]\n",
      " [166 105]\n",
      " [208 160]\n",
      " [175 105]\n",
      " [198 130]\n",
      " [197 129]\n",
      " [183 145]\n",
      " [194 140]\n",
      " [190 120]\n",
      " [194 135]\n",
      " [165 103]\n",
      " [183 115]\n",
      " [136  30]\n",
      " [141  34]\n",
      " [153  68]\n",
      " [152  65]\n",
      " [186 160]\n",
      " [165  89]\n",
      " [192 130]\n",
      " [186 120]\n",
      " [219 110]]\n"
     ]
    }
   ],
   "source": [
    "# set a thresold for mahalanobis distance\n",
    "thresold = 3\n",
    "\n",
    "# identify potential outliers\n",
    "\n",
    "outliers = data[mahalanobis_distance > thresold]\n",
    "\n",
    "# print potential outliers\n",
    "print(\"Potential outliers: \")\n",
    "print(outliers)"
   ]
  },
  {
   "cell_type": "code",
   "execution_count": 61,
   "id": "e00248de",
   "metadata": {},
   "outputs": [
    {
     "data": {
      "text/plain": [
       "177.4511657214871"
      ]
     },
     "execution_count": 61,
     "metadata": {},
     "output_type": "execute_result"
    }
   ],
   "source": [
    "mean_height"
   ]
  },
  {
   "cell_type": "code",
   "execution_count": 62,
   "id": "c76fc69f",
   "metadata": {},
   "outputs": [
    {
     "data": {
      "text/plain": [
       "72.65343415248897"
      ]
     },
     "execution_count": 62,
     "metadata": {},
     "output_type": "execute_result"
    }
   ],
   "source": [
    "mean_weight"
   ]
  },
  {
   "cell_type": "code",
   "execution_count": 63,
   "id": "08aba5af",
   "metadata": {},
   "outputs": [
    {
     "data": {
      "text/plain": [
       "array([[127.41170577, 139.9855871 ],\n",
       "       [139.9855871 , 256.31487313]])"
      ]
     },
     "execution_count": 63,
     "metadata": {},
     "output_type": "execute_result"
    }
   ],
   "source": [
    "covariance"
   ]
  },
  {
   "cell_type": "code",
   "execution_count": 64,
   "id": "77c71813",
   "metadata": {},
   "outputs": [
    {
     "data": {
      "text/plain": [
       "array([[170,  69],\n",
       "       [171,  64],\n",
       "       [167,  52],\n",
       "       ...,\n",
       "       [173,  63],\n",
       "       [179,  73],\n",
       "       [177,  84]], dtype=int64)"
      ]
     },
     "execution_count": 64,
     "metadata": {},
     "output_type": "execute_result"
    }
   ],
   "source": [
    "data"
   ]
  },
  {
   "cell_type": "code",
   "execution_count": 67,
   "id": "7380e15e",
   "metadata": {},
   "outputs": [
    {
     "data": {
      "text/plain": [
       "array([[ 0.01962362, -0.01071738],\n",
       "       [-0.01071738,  0.00975472]])"
      ]
     },
     "execution_count": 67,
     "metadata": {},
     "output_type": "execute_result"
    }
   ],
   "source": [
    "inverse_covariance"
   ]
  },
  {
   "cell_type": "code",
   "execution_count": 69,
   "id": "95f7f709",
   "metadata": {},
   "outputs": [
    {
     "data": {
      "text/plain": [
       "array([0.79762035, 0.59207158, 1.29525851, ..., 0.61384001, 0.19167908,\n",
       "       1.17029453])"
      ]
     },
     "execution_count": 69,
     "metadata": {},
     "output_type": "execute_result"
    }
   ],
   "source": [
    "mahalanobis_distance"
   ]
  },
  {
   "cell_type": "code",
   "execution_count": null,
   "id": "84a3bfe1",
   "metadata": {},
   "outputs": [],
   "source": []
  }
 ],
 "metadata": {
  "kernelspec": {
   "display_name": "Python 3 (ipykernel)",
   "language": "python",
   "name": "python3"
  },
  "language_info": {
   "codemirror_mode": {
    "name": "ipython",
    "version": 3
   },
   "file_extension": ".py",
   "mimetype": "text/x-python",
   "name": "python",
   "nbconvert_exporter": "python",
   "pygments_lexer": "ipython3",
   "version": "3.11.2"
  }
 },
 "nbformat": 4,
 "nbformat_minor": 5
}
